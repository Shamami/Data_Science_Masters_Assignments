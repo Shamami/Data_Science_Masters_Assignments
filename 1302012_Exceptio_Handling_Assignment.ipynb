{
 "cells": [
  {
   "cell_type": "markdown",
   "id": "65a3c5ed-6962-4021-b09e-1a24114e3923",
   "metadata": {},
   "source": [
    "### Q1. Explain why we have to use the Exception class while creating a Custom Exception.\n",
    "\n",
    "Note: Here Exception class refers to the base class for all the exceptions.\n",
    "\n"
   ]
  },
  {
   "cell_type": "markdown",
   "id": "71abb6b9-3808-4d56-967f-b1ca7e870408",
   "metadata": {},
   "source": [
    "When creating a custom exception in Python, it is recommended to inherit from the built-in Exception class or one of its subclasses. This is because the Exception class provides a lot of useful functionality that can be leveraged by the custom exception. For example, it allows you to add custom attributes to the exception object, which can be used to provide additional information about the error.\n",
    "\n",
    "In addition, using the Exception class as a base class ensures that your custom exception is compatible with the existing exception hierarchy in Python. This makes it easier to handle exceptions in a consistent and predictable way throughout your codebase."
   ]
  },
  {
   "cell_type": "markdown",
   "id": "aea4c5c6-ff99-419d-a4cf-6e5f2edc98ad",
   "metadata": {},
   "source": [
    "### Q2. Write a python program to print Python Exception Hierarchy.\n"
   ]
  },
  {
   "cell_type": "markdown",
   "id": "c501ebb9-7059-4865-b023-f47ec11e2bf1",
   "metadata": {},
   "source": [
    "For printing the tree hierarchy we will use inspect module in Python. The inspect module provides useful functions to get information about objects such as modules, classes, methods, functions,  and code objects. For example, it can help you examine the contents of a class, extract and format the argument list for a function.\n",
    "\n",
    "\n",
    "Example:\n",
    "\n",
    "# For printing the hierarchy for inbuilt exceptions:  \n",
    "# First, we will import the inspect module  \n",
    "import inspect as ipt  \n",
    "    \n",
    "# Then we will create tree_class function  \n",
    "def tree_class(cls, ind = 0):  \n",
    "      \n",
    "      # Then we will print the name of the class  \n",
    "    print ('-' * ind, cls.__name__)  \n",
    "        \n",
    "    # now, we will iterate through the subclasses  \n",
    "    for K in cls.__subclasses__():  \n",
    "        tree_class(K, ind + 3)  \n",
    "    \n",
    "print (\"The Hierarchy for inbuilt exceptions is: \")  \n",
    "    \n",
    "# THE inspect.getmro() will return the tuple   \n",
    "# of class  which is cls's base classes.  \n",
    "    \n",
    "#Now, we will build a tree hierarchy   \n",
    "ipt.getclasstree(ipt.getmro(BaseException))  \n",
    "    \n",
    "# function call  \n",
    "tree_class(BaseException)  "
   ]
  },
  {
   "cell_type": "markdown",
   "id": "1fa66b0f-c23e-4d87-bc41-52a4c2456742",
   "metadata": {},
   "source": [
    "### Q3. What errors are defined in the ArithmeticError class? Explain any two with an example.\n",
    "\n"
   ]
  },
  {
   "cell_type": "markdown",
   "id": "c92529fc-52aa-464a-b4ff-13e4e8c11fc4",
   "metadata": {},
   "source": [
    "The arithmetic exception is a type of unusual outcome or unchecked error of the code, which is thrown or raised whenever a wrong mathematical or arithmetic operation appears in the code during run time.\n",
    "\n",
    "The arithmetic error occurs when an error is encountered during numeric calculations in Python. This includes Zerodivision Error and Floating point error. In addition, zero division error is raised when you divide a numeric value by zero. When we run this code, we will get a ZeroDivision error.\n",
    "\n",
    "ArithmeticError types in Python include: OverFlowError; ZeroDivisionError; FloatingPointError. These errors are all capable of crashing a code in Python."
   ]
  },
  {
   "cell_type": "code",
   "execution_count": null,
   "id": "d0400db0-5eed-41a4-81c7-a69790dfbcac",
   "metadata": {},
   "outputs": [],
   "source": [
    "try:\n",
    "  arithmetic = 5/0\n",
    "  print(arithmetic)\n",
    "except ArithmeticError:\n",
    "  print('You have just made an Arithmetic error')\n",
    "\n",
    "Line 1: We introduce the try, except block to help us check for errors in our line of codes.\n",
    "Line 2: We create a variable, arithmetic.\n",
    "Line 3: We return the output of our variable.\n",
    "Line 4: We use except to check for an ArithmeticError and complete the block.\n",
    "Line 5: If there is an ArithmeticError in our code, we have previously told Python to return a text output instead of crashing our program."
   ]
  },
  {
   "cell_type": "code",
   "execution_count": null,
   "id": "79e57566-0fc0-4c72-bed3-d229387ea0e4",
   "metadata": {},
   "outputs": [],
   "source": []
  },
  {
   "cell_type": "markdown",
   "id": "60facaf4-8b3f-4f44-9f24-c297f1986530",
   "metadata": {},
   "source": [
    "### Q4. Why LookupError class is used? Explain with an example KeyError and IndexError.\n"
   ]
  },
  {
   "cell_type": "markdown",
   "id": "39596d70-8fce-48a1-b011-8585a1337814",
   "metadata": {},
   "source": [
    "Lookup Error in Python. The LookupError exception in Python forms the base class for all exceptions that are raised when an index or a key is not found for a sequence or dictionary respectively. You can use LookupError exception class to handle both IndexError and KeyError exception classes.\n",
    "\n",
    "LookupError Exception is the Base class for errors raised when something can't be found. The base class for the exceptions that are raised when a key or index used on a mapping or sequence is invalid: IndexError, KeyError. An IndexError is raised when a sequence reference is out of range."
   ]
  },
  {
   "cell_type": "code",
   "execution_count": null,
   "id": "33f31fbe-77a6-43af-81f9-f28e5e99d1fc",
   "metadata": {},
   "outputs": [],
   "source": [
    "Example 1 - Handling IndexError exception\n",
    "Code/Output\n",
    "\n",
    "# lists\n",
    "x = [1, 2, 3, 4]\n",
    "try:\n",
    "    print(x[10])\n",
    "except LookupError as e:\n",
    "    print(f\"{e}, {e.__class__}\")\n",
    "\n",
    ">>> list index out of range, <class 'IndexError'>\n",
    "\n",
    "# strings\n",
    "x = \"Pylenin\"\n",
    "try:\n",
    "    print(x[10])\n",
    "except LookupError as e:\n",
    "    print(f\"{e}, {e.__class__}\")\n",
    "\n",
    ">>> string index out of range, <class 'IndexError'>    \n",
    "    \n",
    "# tuples\n",
    "x = (1, 2, 3, 4)\n",
    "try:\n",
    "    print(x[10])\n",
    "except LookupError as e:\n",
    "    print(f\"{e}, {e.__class__}\")\n",
    "\n",
    ">>> tuple index out of range, <class 'IndexError'>\n",
    "As you can see, it is possible to catch IndexError exceptions using the LookupError exception class. By using e.__class__ method also helps you to identify the type of LookupError. In the above example, it is an IndexError."
   ]
  },
  {
   "cell_type": "code",
   "execution_count": null,
   "id": "73a622d5-fb37-4700-8c5c-2246687c1c31",
   "metadata": {},
   "outputs": [],
   "source": [
    "# Example 2 - Handling KeyError exception\n",
    "Code\n",
    "\n",
    "pylenin_info = {'name': 'Lenin Mishra',\n",
    "                'age': 28,\n",
    "                'language': 'Python'}\n",
    "user_input = input('What do you want to learn about Pylenin==> ')\n",
    "\n",
    "try:\n",
    "    print(f'{user_input} is {pylenin_info[user_input]}')\n",
    "except LookupError as e:\n",
    "    print(f'{e}, {e.__class__}')"
   ]
  },
  {
   "cell_type": "code",
   "execution_count": null,
   "id": "58e17e4d-c279-4abb-a18a-be9cef3edffb",
   "metadata": {},
   "outputs": [],
   "source": []
  },
  {
   "cell_type": "markdown",
   "id": "39fc612d-7594-426c-b43e-707d9981008b",
   "metadata": {},
   "source": [
    "### Q5. Explain ImportError. What is ModuleNotFoundError?\n",
    "\n"
   ]
  },
  {
   "cell_type": "markdown",
   "id": "a638046b-e7ed-4b0e-a43a-ba74bfb15761",
   "metadata": {},
   "source": [
    "This error generally occurs when a class cannot be imported due to one of the following reasons: The imported class is in a circular dependency. The imported class is unavailable or was not created. The imported class name is misspelled.\n",
    "\n",
    "ModuleNotFoundError is a common error in Python that occurs when you try to import a module that cannot be found. This error can occur due to several reasons, such as the module not being installed on your computer, spelling the module name incorrectly, or using an incorrect casing for the module name."
   ]
  },
  {
   "cell_type": "markdown",
   "id": "a61c903f-7be4-44e0-b0d4-b2a67f6f1be8",
   "metadata": {},
   "source": [
    "### Q6. List down some best practices for exception handling in python. \n"
   ]
  },
  {
   "cell_type": "markdown",
   "id": "a1e3686c-b6e4-4467-a762-9744e04ee89c",
   "metadata": {},
   "source": [
    "Always use a specific exception instead of using a exception superclass\n",
    "Always print a valid message\n",
    "Always try to log\n",
    "Avoid writing multiple exceptions particularly if they are not needed\n",
    "prepare proper documnetation\n",
    "cleanup all resources\n",
    "\n",
    "Use try/catch/finally blocks to recover from errors or release resources.\n",
    "Handle common conditions without throwing exceptions.\n",
    "Design classes so that exceptions can be avoided.\n",
    "Throw exceptions instead of returning an error code."
   ]
  }
 ],
 "metadata": {
  "kernelspec": {
   "display_name": "Python 3 (ipykernel)",
   "language": "python",
   "name": "python3"
  },
  "language_info": {
   "codemirror_mode": {
    "name": "ipython",
    "version": 3
   },
   "file_extension": ".py",
   "mimetype": "text/x-python",
   "name": "python",
   "nbconvert_exporter": "python",
   "pygments_lexer": "ipython3",
   "version": "3.10.8"
  }
 },
 "nbformat": 4,
 "nbformat_minor": 5
}
