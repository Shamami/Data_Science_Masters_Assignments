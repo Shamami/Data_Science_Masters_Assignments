{
 "cells": [
  {
   "cell_type": "markdown",
   "id": "15514f59-6e80-4b34-b33a-782bf693d491",
   "metadata": {},
   "source": [
    "Q1. Create a python program to sort the given list of tuples based on integer value using a\n",
    "lambda function.\n",
    "\n",
    "[('Sachin Tendulkar', 34357), ('Ricky Ponting', 27483), ('Jack Kallis', 25534), ('Virat Kohli', 24936)]\n"
   ]
  },
  {
   "cell_type": "code",
   "execution_count": 34,
   "id": "9ce66f05-944f-4ee2-8160-01058befe944",
   "metadata": {},
   "outputs": [
    {
     "name": "stdout",
     "output_type": "stream",
     "text": [
      "Original list of tuples:\n",
      "[('Sachin Tendulkar', 34357), ('Ricky Ponting', 27483), ('Jack Kallis', 25534), ('Virat Kohli', 24936)]\n",
      "\n",
      "Sorting list of tuples based on integer value using a lambda function.:\n",
      "[('Virat Kohli', 24936), ('Jack Kallis', 25534), ('Ricky Ponting', 27483), ('Sachin Tendulkar', 34357)]\n"
     ]
    }
   ],
   "source": [
    "# Solution:\n",
    "    \n",
    "player_runs = [('Sachin Tendulkar', 34357), ('Ricky Ponting', 27483), ('Jack Kallis', 25534), ('Virat Kohli', 24936)]\n",
    "\n",
    "print(\"Original list of tuples:\")\n",
    "\n",
    "print(player_runs)\n",
    "\n",
    "player_runs.sort(key = lambda x: x[1])\n",
    "print(\"\\nSorting list of tuples based on integer value using a lambda function.:\")\n",
    "print(player_runs)"
   ]
  },
  {
   "cell_type": "code",
   "execution_count": null,
   "id": "dc308493-f116-49f2-b932-b625d5542e82",
   "metadata": {},
   "outputs": [],
   "source": []
  },
  {
   "cell_type": "markdown",
   "id": "d8246370-e439-4f98-9e49-543a1ea78bff",
   "metadata": {},
   "source": [
    "Q2. Write a Python Program to find the squares of all the numbers in the given list of integers using\n",
    "lambda and map functions.\n",
    "[1, 2, 3, 4, 5, 6, 7, 8, 9, 10]\n"
   ]
  },
  {
   "cell_type": "code",
   "execution_count": 35,
   "id": "8f9a4c2b-b32d-4d77-9751-cc4e3c8f0704",
   "metadata": {},
   "outputs": [
    {
     "data": {
      "text/plain": [
       "[1, 4, 9, 16, 25, 36, 49, 64, 81, 100]"
      ]
     },
     "execution_count": 35,
     "metadata": {},
     "output_type": "execute_result"
    }
   ],
   "source": [
    "# Solution:\n",
    "\n",
    "l1 = [1, 2, 3, 4, 5, 6, 7, 8, 9, 10]\n",
    "list (map (lambda x : x**2 , l1))"
   ]
  },
  {
   "cell_type": "code",
   "execution_count": null,
   "id": "a52878e4-23b7-4ffc-bf98-41dcabf297cc",
   "metadata": {},
   "outputs": [],
   "source": []
  },
  {
   "cell_type": "markdown",
   "id": "1989e9ba-1752-446e-b5d8-d786efd01a59",
   "metadata": {},
   "source": [
    "Q3. Write a python program to convert the given list of integers into a tuple of strings. Use map and\n",
    "lambda functions\n",
    "\n",
    "Given String: [1, 2, 3, 4, 5, 6, 7, 8, 9, 10]\n",
    "\n",
    "Expected output: ('1', '2', '3', '4', '5', '6', '7', '8', '9', '10')\n"
   ]
  },
  {
   "cell_type": "code",
   "execution_count": 36,
   "id": "a215b3b3-6f59-42df-82f0-17aa76867ba9",
   "metadata": {},
   "outputs": [
    {
     "data": {
      "text/plain": [
       "('1', '2', '3', '4', '5', '6', '7', '8', '9', '10')"
      ]
     },
     "execution_count": 36,
     "metadata": {},
     "output_type": "execute_result"
    }
   ],
   "source": [
    "# Solution:\n",
    "    \n",
    "l2 =  [1, 2, 3, 4, 5, 6, 7, 8, 9, 10]\n",
    "\n",
    "tuple (map (lambda x : str (x) , l2))"
   ]
  },
  {
   "cell_type": "code",
   "execution_count": null,
   "id": "e3e00fc7-7b0f-4bbe-89be-4af40370a44e",
   "metadata": {},
   "outputs": [],
   "source": []
  },
  {
   "cell_type": "markdown",
   "id": "998adcd7-bab1-4020-aa14-6b09f558a177",
   "metadata": {},
   "source": [
    "Q4. Write a python program using reduce function to compute the product of a list containing numbers\n",
    "from 1 to 25.\n"
   ]
  },
  {
   "cell_type": "code",
   "execution_count": 37,
   "id": "68a9c2ce-d177-4405-8073-a4564061bbc8",
   "metadata": {},
   "outputs": [
    {
     "data": {
      "text/plain": [
       "705055001969590272000000"
      ]
     },
     "execution_count": 37,
     "metadata": {},
     "output_type": "execute_result"
    }
   ],
   "source": [
    "# Solution:\n",
    "    \n",
    "from functools import reduce\n",
    "\n",
    "l3 = [1,2,3,4,5,6,7,8,9,10,11,12,13,14,15,16,17,18,19,20,21,23,24,25]\n",
    "\n",
    "reduce (lambda x , y : x * y , l3)"
   ]
  },
  {
   "cell_type": "code",
   "execution_count": null,
   "id": "22c25084-7e27-42b0-8e87-7a970a1bdbef",
   "metadata": {},
   "outputs": [],
   "source": []
  },
  {
   "cell_type": "markdown",
   "id": "4f117a78-32b2-4bb1-bd8c-9ac3a1fa75f2",
   "metadata": {},
   "source": [
    "Q5. Write a python program to filter the numbers in a given list that are divisible by 2 and 3 using the\n",
    "filter function.\n",
    "[2, 3, 6, 9, 27, 60, 90, 120, 55, 46]\n"
   ]
  },
  {
   "cell_type": "code",
   "execution_count": 39,
   "id": "b68e41de-22f6-4b8c-91e9-6c54994a7148",
   "metadata": {},
   "outputs": [
    {
     "data": {
      "text/plain": [
       "[6, 60, 90, 120]"
      ]
     },
     "execution_count": 39,
     "metadata": {},
     "output_type": "execute_result"
    }
   ],
   "source": [
    "# Solution:\n",
    "\n",
    "l4 = [2, 3, 6, 9, 27, 60, 90, 120, 55, 46]\n",
    "list (filter (lambda x : (x % 2 == 0) and (x % 3 == 0) , l4))"
   ]
  },
  {
   "cell_type": "code",
   "execution_count": null,
   "id": "ad1fb64f-4e67-40c4-a1c3-f51355eaeb20",
   "metadata": {},
   "outputs": [],
   "source": []
  },
  {
   "cell_type": "markdown",
   "id": "47c21580-a5b5-4c32-8a08-f4cb3de1eb99",
   "metadata": {},
   "source": [
    "Q6. Write a python program to find palindromes in the given list of strings using lambda and filter\n",
    "function.\n",
    "['python', 'php', 'aba', 'radar', 'level']"
   ]
  },
  {
   "cell_type": "code",
   "execution_count": 33,
   "id": "42f228c4-f47d-4477-a084-783ae23280e7",
   "metadata": {},
   "outputs": [
    {
     "name": "stdout",
     "output_type": "stream",
     "text": [
      "['php', 'aba', 'radar', 'level']\n"
     ]
    }
   ],
   "source": [
    "# Solution:\n",
    "    \n",
    "l5 = ['python', 'php', 'aba', 'radar', 'level']\n",
    "palindromes = list(filter(lambda x: (x == \"\".join(reversed(x))), l5))\n",
    "print (palindromes)"
   ]
  },
  {
   "cell_type": "code",
   "execution_count": null,
   "id": "e259b438-6bfb-4de6-b16d-84e0d7674874",
   "metadata": {},
   "outputs": [],
   "source": [
    "\n"
   ]
  },
  {
   "cell_type": "code",
   "execution_count": 25,
   "id": "3b978a7c-860d-4d2a-900c-56c2bb241858",
   "metadata": {},
   "outputs": [],
   "source": []
  },
  {
   "cell_type": "code",
   "execution_count": null,
   "id": "aac1f91a-5aeb-4afb-90d7-d4a128be4cb2",
   "metadata": {},
   "outputs": [],
   "source": []
  }
 ],
 "metadata": {
  "kernelspec": {
   "display_name": "Python 3 (ipykernel)",
   "language": "python",
   "name": "python3"
  },
  "language_info": {
   "codemirror_mode": {
    "name": "ipython",
    "version": 3
   },
   "file_extension": ".py",
   "mimetype": "text/x-python",
   "name": "python",
   "nbconvert_exporter": "python",
   "pygments_lexer": "ipython3",
   "version": "3.10.8"
  }
 },
 "nbformat": 4,
 "nbformat_minor": 5
}
