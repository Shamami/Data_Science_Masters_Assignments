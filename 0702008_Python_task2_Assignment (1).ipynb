{
 "cells": [
  {
   "cell_type": "markdown",
   "id": "32ed728a-19ed-4872-ab13-0301ba6a76c5",
   "metadata": {},
   "source": [
    "Q1. You are writing code for a company. \n",
    "The requirement of the company is that you create a python function that will check whether the password entered by the user is correct or not. \n",
    "The function should take the password as input and return the string “Valid Password” if the entered password follows the below-given password guidelines else it should return “Invalid Password”.\n",
    "\n",
    "Note: \n",
    "1. The Password should contain at least two uppercase letters and at least two lowercase letters.\n",
    "2. The Password should contain at least a number and three special characters.\n",
    "3. The length of the password should be 10 characters long.\n"
   ]
  },
  {
   "cell_type": "code",
   "execution_count": 3,
   "id": "188769c5-bb86-45fd-90b1-b52ffdbb80f2",
   "metadata": {},
   "outputs": [
    {
     "name": "stdin",
     "output_type": "stream",
     "text": [
      "Please Enter your Own Password :  re\n"
     ]
    },
    {
     "name": "stdout",
     "output_type": "stream",
     "text": [
      "invalid password\n"
     ]
    }
   ],
   "source": [
    "# Solution\n",
    "\n",
    "password = input(\"Please Enter your Own Password : \")\n",
    "\n",
    "def check_password(password):\n",
    "    \n",
    "    spaces = upper = lower = digits = special = 0\n",
    "\n",
    "    for i in range(len(password)):\n",
    "        if(password[i].isspace()):\n",
    "            spaces = spaces + 1\n",
    "        elif(password[i].isupper()):\n",
    "            upper = upper + 1\n",
    "        elif(password[i].islower()):\n",
    "            lower = lower + 1\n",
    "        elif(password[i].isdigit()):\n",
    "            digits = digits + 1\n",
    "        else:\n",
    "            special = special + 1 - spaces\n",
    "        \n",
    "    if (len(password)) == 10 and spaces == 0 and upper >= 2 and lower >= 2 and  digits >= 1 and special == 3:\n",
    "        print (\"valid password\")\n",
    "    else:\n",
    "        print (\"invalid password\")\n",
    "    \n",
    "    \n",
    "check_password (password)"
   ]
  },
  {
   "cell_type": "code",
   "execution_count": null,
   "id": "cad0eef1-87fa-4412-a4fc-a08c8d97bcf3",
   "metadata": {},
   "outputs": [],
   "source": []
  },
  {
   "cell_type": "markdown",
   "id": "562ac3dd-112d-4b0c-8c7d-3865697503e4",
   "metadata": {},
   "source": [
    "Q2. Solve the below-given questions using at least one of the following:\n",
    "1. Lambda function\n",
    "2. Filter function\n",
    "3. Map function\n",
    "4. List Comprehension"
   ]
  },
  {
   "cell_type": "markdown",
   "id": "9ec263d7-4811-4cd9-ba0e-433af482189e",
   "metadata": {},
   "source": [
    "a) Check if the string starts with a particular letter."
   ]
  },
  {
   "cell_type": "code",
   "execution_count": 28,
   "id": "485fa2e5-d5d2-4208-9d56-74c1b0b68fdf",
   "metadata": {},
   "outputs": [
    {
     "name": "stdin",
     "output_type": "stream",
     "text": [
      "Enter name :  maths\n"
     ]
    },
    {
     "data": {
      "text/plain": [
       "False"
      ]
     },
     "execution_count": 28,
     "metadata": {},
     "output_type": "execute_result"
    }
   ],
   "source": [
    "## using lambda\n",
    "\n",
    "name = str( input (\"Enter name : \" )) \n",
    "ch = lambda name : True if name [0] == \"S\" else False\n",
    "ch(name)"
   ]
  },
  {
   "cell_type": "code",
   "execution_count": 12,
   "id": "e0c16564-ed02-45c8-ba44-2dc947265680",
   "metadata": {},
   "outputs": [
    {
     "data": {
      "text/plain": [
       "True"
      ]
     },
     "execution_count": 12,
     "metadata": {},
     "output_type": "execute_result"
    }
   ],
   "source": [
    "string = \"pwskills\"\n",
    "string.startswith(\"p\")"
   ]
  },
  {
   "cell_type": "code",
   "execution_count": null,
   "id": "9584fff9-0d60-4d3c-af2d-39873ba0977d",
   "metadata": {},
   "outputs": [],
   "source": []
  },
  {
   "cell_type": "markdown",
   "id": "d032a709-6eca-4a93-a5a4-f03911777293",
   "metadata": {},
   "source": [
    "b) Check if the string is numeric."
   ]
  },
  {
   "cell_type": "code",
   "execution_count": 15,
   "id": "5c1335da-bb6f-4a7f-b04c-cb4cad0d05b9",
   "metadata": {},
   "outputs": [
    {
     "name": "stdin",
     "output_type": "stream",
     "text": [
      " 1234\n"
     ]
    },
    {
     "data": {
      "text/plain": [
       "'1234'"
      ]
     },
     "execution_count": 15,
     "metadata": {},
     "output_type": "execute_result"
    }
   ],
   "source": [
    "## using lambda function \n",
    "\n",
    "mob_num = str(input(\"\"))\n",
    "c = lambda mob_num : mob_num if (mob_num.isnumeric() == True) else \"wrong\"\n",
    "c(mob_num)"
   ]
  },
  {
   "cell_type": "code",
   "execution_count": null,
   "id": "7ec553b8-116e-473a-9df2-1a209bad2d7f",
   "metadata": {},
   "outputs": [],
   "source": []
  },
  {
   "cell_type": "markdown",
   "id": "fc18b1b0-b928-4e39-813a-a58e1a8dfb0d",
   "metadata": {},
   "source": [
    "c) Sort a list of tuples having fruit names and their quantity. \n",
    "\n",
    "[ (\"mango\",99),(\"orange\",80), (\"grapes\", 1000)]"
   ]
  },
  {
   "cell_type": "code",
   "execution_count": 47,
   "id": "4febfe17-0fc5-4386-8adb-e48a14e1f485",
   "metadata": {},
   "outputs": [
    {
     "name": "stdout",
     "output_type": "stream",
     "text": [
      "[('orange', 80), ('mango', 99), ('grapes', 1000)]\n"
     ]
    }
   ],
   "source": [
    "## using lambda function \n",
    "\n",
    "d = [(\"mango\",99),(\"orange\",80), (\"grapes\", 1000)]\n",
    "d.sort(key = lambda x : x[1])\n",
    "print (d)"
   ]
  },
  {
   "cell_type": "code",
   "execution_count": 77,
   "id": "548dd308-2904-4935-98a7-4ae9889252e2",
   "metadata": {},
   "outputs": [],
   "source": []
  },
  {
   "cell_type": "markdown",
   "id": "4f2c5b1c-8a52-4f04-a33a-4d129ac04bc4",
   "metadata": {},
   "source": [
    "d) Find the squares of numbers from 1 to 10."
   ]
  },
  {
   "cell_type": "code",
   "execution_count": 80,
   "id": "fd7f86c6-ab0c-466a-94a7-10ceaaa968af",
   "metadata": {},
   "outputs": [
    {
     "data": {
      "text/plain": [
       "[1, 4, 9, 16, 25, 36, 49, 64, 81, 100]"
      ]
     },
     "execution_count": 80,
     "metadata": {},
     "output_type": "execute_result"
    }
   ],
   "source": [
    "## using lambda and map function\n",
    "\n",
    "e = [1,2,3,4,5,6,7,8,9,10]\n",
    "list(map(lambda x : x**2 , e ))"
   ]
  },
  {
   "cell_type": "code",
   "execution_count": null,
   "id": "ec518785-46d9-4ca6-baad-e8924e80b6b5",
   "metadata": {},
   "outputs": [],
   "source": []
  },
  {
   "cell_type": "markdown",
   "id": "14407e3d-68a8-45e8-8b98-093754956def",
   "metadata": {},
   "source": [
    "e) Find the cube root of numbers from 1 to 10."
   ]
  },
  {
   "cell_type": "code",
   "execution_count": 13,
   "id": "b0ca43cf-d003-4f18-9d2b-a41db38a67d9",
   "metadata": {},
   "outputs": [
    {
     "name": "stdout",
     "output_type": "stream",
     "text": [
      "[1.0, 1.2599210498948732, 1.4422495703074083, 1.5874010519681994, 1.7099759466766968, 1.8171205928321397, 1.912931182772389, 2.0, 2.080083823051904, 2.154434690031884]\n"
     ]
    }
   ],
   "source": [
    "# using list comprehension\n",
    "\n",
    "m = [i**(1/3) for i in range(1,11) ]\n",
    "print (m)"
   ]
  },
  {
   "cell_type": "code",
   "execution_count": 81,
   "id": "83f504a7-9ebc-4c17-a62c-fc3d91e8ea22",
   "metadata": {},
   "outputs": [
    {
     "data": {
      "text/plain": [
       "[1.0,\n",
       " 1.2599210498948732,\n",
       " 1.4422495703074083,\n",
       " 1.5874010519681994,\n",
       " 1.7099759466766968,\n",
       " 1.8171205928321397,\n",
       " 1.912931182772389,\n",
       " 2.0,\n",
       " 2.080083823051904,\n",
       " 2.154434690031884]"
      ]
     },
     "execution_count": 81,
     "metadata": {},
     "output_type": "execute_result"
    }
   ],
   "source": [
    "## using lambda and map function \n",
    "\n",
    "e = [1,2,3,4,5,6,7,8,9,10]\n",
    "list(map(lambda x : x**(1/3) , e ))"
   ]
  },
  {
   "cell_type": "code",
   "execution_count": null,
   "id": "646f26f7-746b-4c17-afc6-559dcd63268f",
   "metadata": {},
   "outputs": [],
   "source": []
  },
  {
   "cell_type": "markdown",
   "id": "83fe3658-a04a-4e9e-b030-3134fe7d4ea0",
   "metadata": {},
   "source": [
    "f) Check if a given number is even"
   ]
  },
  {
   "cell_type": "code",
   "execution_count": 20,
   "id": "c9d8b71c-b15e-4a7d-ab97-1d0be5e1491d",
   "metadata": {},
   "outputs": [
    {
     "name": "stdin",
     "output_type": "stream",
     "text": [
      "Enter number:  123456\n"
     ]
    },
    {
     "data": {
      "text/plain": [
       "'Yes it is an Even Number'"
      ]
     },
     "execution_count": 20,
     "metadata": {},
     "output_type": "execute_result"
    }
   ],
   "source": [
    "## using lambda function\n",
    "\n",
    "number = int(input(\"Enter number: \"))\n",
    "check = lambda number : \"Yes it is an Even Number\" if number % 2 == 0 else \"Sorry it is an Odd Number\"\n",
    "check(number)"
   ]
  },
  {
   "cell_type": "code",
   "execution_count": null,
   "id": "7f260561-c2a0-4766-be78-6f3ce81295ad",
   "metadata": {},
   "outputs": [],
   "source": []
  },
  {
   "cell_type": "markdown",
   "id": "9efa1025-aef8-46ee-b7a9-64287705fd5f",
   "metadata": {},
   "source": [
    "g) Filter odd numbers from the given list.\n",
    "[1,2,3,4,5,6,7,8,9,10]"
   ]
  },
  {
   "cell_type": "code",
   "execution_count": 56,
   "id": "576000e3-858c-4ef5-9b64-77480fdb9aac",
   "metadata": {},
   "outputs": [
    {
     "data": {
      "text/plain": [
       "[1, 3, 5, 7, 9]"
      ]
     },
     "execution_count": 56,
     "metadata": {},
     "output_type": "execute_result"
    }
   ],
   "source": [
    "## using lambda and filter function\n",
    "\n",
    "h = [1,2,3,4,5,6,7,8,9,10]\n",
    "list (filter (lambda x : x % 2 != 0, h ))"
   ]
  },
  {
   "cell_type": "markdown",
   "id": "71b78702-a912-4d24-91c7-f2accc4535fd",
   "metadata": {},
   "source": [
    "h) Sort a list of integers into positive  and negative integers lists.\n",
    "[1,2,3,4,5,6,-1,-2,-3,-4,-5,0]"
   ]
  },
  {
   "cell_type": "code",
   "execution_count": 22,
   "id": "ef888605-657b-4d49-92b1-2bbc8c449b0a",
   "metadata": {},
   "outputs": [
    {
     "data": {
      "text/plain": [
       "([1, 2, 3, 4, 5, 6, 0], [-1, -2, -3, -4, -5])"
      ]
     },
     "execution_count": 22,
     "metadata": {},
     "output_type": "execute_result"
    }
   ],
   "source": [
    "## using lambda and filter function\n",
    "\n",
    "i = [1,2,3,4,5,6,-1,-2,-3,-4,-5,0]\n",
    "positive_integers = list(filter(lambda x : x >= 0 , i))\n",
    "negative_integers = list(filter(lambda x : x < 0 , i))\n",
    "positive_integers, negative_integers"
   ]
  },
  {
   "cell_type": "code",
   "execution_count": 21,
   "id": "686a7ef0-528b-4817-8238-e58edeab61e6",
   "metadata": {},
   "outputs": [
    {
     "data": {
      "text/plain": [
       "([1, 2, 3, 4, 5, 6], [-1, -2, -3, -4, -5])"
      ]
     },
     "execution_count": 21,
     "metadata": {},
     "output_type": "execute_result"
    }
   ],
   "source": [
    "i = [1,2,3,4,5,6,-1,-2,-3,-4,-5,0]\n",
    "list(filter(lambda x : x > 0 , i)), list(filter(lambda x : x < 0 , i))\n"
   ]
  },
  {
   "cell_type": "code",
   "execution_count": null,
   "id": "14499ea1-f72c-4eec-b7fb-eed087661580",
   "metadata": {},
   "outputs": [],
   "source": []
  },
  {
   "cell_type": "code",
   "execution_count": null,
   "id": "0424df60-8f27-44f9-936e-7343b8ec0d0b",
   "metadata": {},
   "outputs": [],
   "source": []
  },
  {
   "cell_type": "code",
   "execution_count": null,
   "id": "2ec50b35-df34-4241-9bda-4feacab66a7c",
   "metadata": {},
   "outputs": [],
   "source": []
  },
  {
   "cell_type": "code",
   "execution_count": null,
   "id": "857efc60-f3e0-469e-b763-1855bf370067",
   "metadata": {},
   "outputs": [],
   "source": []
  },
  {
   "cell_type": "code",
   "execution_count": null,
   "id": "30eaec78-e3ff-4352-8676-ba8de7031312",
   "metadata": {},
   "outputs": [],
   "source": []
  },
  {
   "cell_type": "code",
   "execution_count": null,
   "id": "b5007dd7-4102-4e8c-bc55-e30e8919f940",
   "metadata": {},
   "outputs": [],
   "source": []
  },
  {
   "cell_type": "code",
   "execution_count": null,
   "id": "d02a8016-8abd-469a-884c-ceb9399c3baf",
   "metadata": {},
   "outputs": [],
   "source": []
  },
  {
   "cell_type": "code",
   "execution_count": null,
   "id": "3761d3dd-4865-46b8-a227-22d3d66fc03b",
   "metadata": {},
   "outputs": [],
   "source": []
  },
  {
   "cell_type": "code",
   "execution_count": null,
   "id": "4524d603-e136-420d-b63e-ae5fe1cd9a60",
   "metadata": {},
   "outputs": [],
   "source": []
  },
  {
   "cell_type": "code",
   "execution_count": null,
   "id": "e084cabd-cd0c-4413-bd69-4711a737dec0",
   "metadata": {},
   "outputs": [],
   "source": []
  },
  {
   "cell_type": "code",
   "execution_count": null,
   "id": "41272615-ae82-453b-bcf5-ad9fbb69e692",
   "metadata": {},
   "outputs": [],
   "source": []
  },
  {
   "cell_type": "code",
   "execution_count": null,
   "id": "45ce1e3b-557b-4cc3-8d3d-52a7c6935be3",
   "metadata": {},
   "outputs": [],
   "source": []
  },
  {
   "cell_type": "code",
   "execution_count": null,
   "id": "94b35cf8-e909-407f-87a9-8232d85b580a",
   "metadata": {},
   "outputs": [],
   "source": []
  },
  {
   "cell_type": "code",
   "execution_count": null,
   "id": "284c3f13-c23c-404b-ae0a-88493b56bffe",
   "metadata": {},
   "outputs": [],
   "source": []
  },
  {
   "cell_type": "code",
   "execution_count": null,
   "id": "bae06ab2-c58d-4dc2-910f-c1034e5f5d3f",
   "metadata": {},
   "outputs": [],
   "source": []
  },
  {
   "cell_type": "code",
   "execution_count": null,
   "id": "8ca54798-6777-4bab-8e62-b1c614e69028",
   "metadata": {},
   "outputs": [],
   "source": []
  },
  {
   "cell_type": "code",
   "execution_count": null,
   "id": "90f3255f-7b3b-4916-8086-0964ee143728",
   "metadata": {},
   "outputs": [],
   "source": []
  },
  {
   "cell_type": "code",
   "execution_count": null,
   "id": "48823c8f-4765-4251-9de3-bc55d0a42c3b",
   "metadata": {},
   "outputs": [],
   "source": []
  },
  {
   "cell_type": "code",
   "execution_count": null,
   "id": "1d147fd6-37d3-4acf-9f47-3b89d9761cc0",
   "metadata": {},
   "outputs": [],
   "source": []
  },
  {
   "cell_type": "code",
   "execution_count": null,
   "id": "d447a15e-23c5-4a73-97a5-f01f309827a2",
   "metadata": {},
   "outputs": [],
   "source": []
  },
  {
   "cell_type": "code",
   "execution_count": null,
   "id": "d66bd29f-d4bd-4f18-88ef-b217489bcaa9",
   "metadata": {},
   "outputs": [],
   "source": []
  },
  {
   "cell_type": "code",
   "execution_count": null,
   "id": "bff94328-e0e3-42a0-a141-041b53d040a3",
   "metadata": {},
   "outputs": [],
   "source": []
  },
  {
   "cell_type": "code",
   "execution_count": null,
   "id": "1bc04f30-c539-4077-bf42-cbb71d6ffcb4",
   "metadata": {},
   "outputs": [],
   "source": []
  },
  {
   "cell_type": "code",
   "execution_count": null,
   "id": "9ec492e9-7ac6-4005-92be-3350e61c3f55",
   "metadata": {},
   "outputs": [],
   "source": []
  },
  {
   "cell_type": "code",
   "execution_count": null,
   "id": "63091e1b-5af3-4e92-8436-04bd7f30e565",
   "metadata": {},
   "outputs": [],
   "source": []
  },
  {
   "cell_type": "code",
   "execution_count": null,
   "id": "a80e1796-c746-444e-9f18-09f72a59c754",
   "metadata": {},
   "outputs": [],
   "source": []
  },
  {
   "cell_type": "code",
   "execution_count": null,
   "id": "22ac803e-5fa8-464d-bdca-e9851b2820e4",
   "metadata": {},
   "outputs": [],
   "source": []
  },
  {
   "cell_type": "code",
   "execution_count": null,
   "id": "e73709b3-f2f6-42e6-9179-2170e4196c3a",
   "metadata": {},
   "outputs": [],
   "source": []
  },
  {
   "cell_type": "code",
   "execution_count": null,
   "id": "ffb87468-8f52-42e9-9c91-d6038ff1d14b",
   "metadata": {},
   "outputs": [],
   "source": []
  },
  {
   "cell_type": "code",
   "execution_count": null,
   "id": "36ce3de2-17b3-407a-8f60-6194f4ec3f05",
   "metadata": {},
   "outputs": [],
   "source": []
  },
  {
   "cell_type": "code",
   "execution_count": null,
   "id": "fe184e81-0fc3-449f-8893-6619527508e6",
   "metadata": {},
   "outputs": [],
   "source": []
  },
  {
   "cell_type": "code",
   "execution_count": null,
   "id": "32055853-f39f-4e4e-8fb3-922fb954d776",
   "metadata": {},
   "outputs": [],
   "source": []
  },
  {
   "cell_type": "code",
   "execution_count": null,
   "id": "49d37293-b720-44a7-ae83-c878f2adfad9",
   "metadata": {},
   "outputs": [],
   "source": []
  },
  {
   "cell_type": "code",
   "execution_count": null,
   "id": "0ab5de19-0823-4c5f-8d93-03b6a195e892",
   "metadata": {},
   "outputs": [],
   "source": []
  },
  {
   "cell_type": "code",
   "execution_count": null,
   "id": "a9003347-7471-4a44-abc1-d74986698d32",
   "metadata": {},
   "outputs": [],
   "source": []
  },
  {
   "cell_type": "code",
   "execution_count": null,
   "id": "6a1e02a3-70e9-434e-932e-0d011bc3d981",
   "metadata": {},
   "outputs": [],
   "source": []
  }
 ],
 "metadata": {
  "kernelspec": {
   "display_name": "Python 3 (ipykernel)",
   "language": "python",
   "name": "python3"
  },
  "language_info": {
   "codemirror_mode": {
    "name": "ipython",
    "version": 3
   },
   "file_extension": ".py",
   "mimetype": "text/x-python",
   "name": "python",
   "nbconvert_exporter": "python",
   "pygments_lexer": "ipython3",
   "version": "3.10.8"
  }
 },
 "nbformat": 4,
 "nbformat_minor": 5
}
