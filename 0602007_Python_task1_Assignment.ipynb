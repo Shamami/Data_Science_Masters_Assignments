{
 "cells": [
  {
   "cell_type": "markdown",
   "id": "cd449dc9-65f0-40b4-8920-41771cffbd8b",
   "metadata": {
    "tags": []
   },
   "source": [
    "### Q1. Create a function which will take a list as an argument and return the product of all the numbers after creating a flat list.\n",
    "\n",
    "Use the below-given list as an argument for your function.\n",
    "\n",
    "list1 = [1,2,3,4, [44,55,66, True], False, (34,56,78,89,34), {1,2,3,3,2,1}, {1:34, \"key2\": [55, 67, 78, 89], 4: (45,\n",
    "22, 61, 34)}, [56, 'data science'], 'Machine Learning']\n",
    "\n",
    "Note: you must extract numeric keys and values of the dictionary also.\n"
   ]
  },
  {
   "cell_type": "code",
   "execution_count": 2,
   "id": "69dbae64-2fd8-4c68-b5b2-f19f2b8a4179",
   "metadata": {},
   "outputs": [],
   "source": [
    "list1 = [1,2,3,4, [44,55,66, True], False, (34,56,78,89,34), {1,2,3,3,2,1}, {1:34, \"key2\": [55, 67, 78, 89], 4: (45, 22, 61, 34)}, [56, 'data science'], 'Machine Learning']"
   ]
  },
  {
   "cell_type": "code",
   "execution_count": 2,
   "id": "5d395b34-232d-4824-92e4-5a8f5a2dbbbc",
   "metadata": {},
   "outputs": [
    {
     "data": {
      "text/plain": [
       "[1,\n",
       " 2,\n",
       " 3,\n",
       " 4,\n",
       " [44, 55, 66, True],\n",
       " False,\n",
       " (34, 56, 78, 89, 34),\n",
       " {1, 2, 3},\n",
       " {1: 34, 'key2': [55, 67, 78, 89], 4: (45, 22, 61, 34)},\n",
       " [56, 'data science'],\n",
       " 'Machine Learning']"
      ]
     },
     "execution_count": 2,
     "metadata": {},
     "output_type": "execute_result"
    }
   ],
   "source": [
    "# Solution\n",
    "\n",
    "list1"
   ]
  },
  {
   "cell_type": "code",
   "execution_count": null,
   "id": "3c86725d-283f-406c-8edf-539b4e0c74b5",
   "metadata": {},
   "outputs": [],
   "source": []
  },
  {
   "cell_type": "code",
   "execution_count": 3,
   "id": "c5dc267e-af17-44ed-bb79-4a7edc618131",
   "metadata": {},
   "outputs": [
    {
     "name": "stdout",
     "output_type": "stream",
     "text": [
      "[1, 2, 3, 4, 44, 55, 66, 34, 56, 78, 89, 34, 1, 2, 3, 1, 2, 4, 34, 55, 67, 78, 89, 45, 22, 61, 34, 56]\n"
     ]
    }
   ],
   "source": [
    "# Creating a flat list\n",
    "l1 = []\n",
    "for i in list1:\n",
    "    if type (i) == list:\n",
    "        for j in i:\n",
    "            if type(j) == int:\n",
    "                l1.append(j)\n",
    "    elif type (i) == tuple:\n",
    "        for j in i:\n",
    "            if type(j) == int:\n",
    "                l1.append(j)\n",
    "    elif type (i) == set: # the set in the given list has duplicate values, which is contrary to the very definition of set\n",
    "        for j in i:\n",
    "            if type(j) == int:\n",
    "                l1.append(j)\n",
    "    elif type (i) == dict:\n",
    "        for j in i:\n",
    "            if type(j) == int:\n",
    "                l1.append(j)\n",
    "            elif type(j) == str:\n",
    "                for k in j:\n",
    "                    if k.isdigit():\n",
    "                        l1.append(int(k))\n",
    "        for j in i.values():\n",
    "            if type(j) == int:\n",
    "                l1.append(j)\n",
    "            elif type(j) == tuple:\n",
    "                for k in j:\n",
    "                    if type(k) == int:\n",
    "                        l1.append(k)\n",
    "            elif type(j) == list:\n",
    "                for k in j:\n",
    "                    if type(k) == int:\n",
    "                        l1.append(k)\n",
    "    elif type(i) == int:\n",
    "        l1.append(i)\n",
    "    else:\n",
    "        pass\n",
    "print(l1)\n"
   ]
  },
  {
   "cell_type": "code",
   "execution_count": 4,
   "id": "cf28c1bf-8a2b-4eab-9d25-f6cfca323e42",
   "metadata": {},
   "outputs": [
    {
     "name": "stdout",
     "output_type": "stream",
     "text": [
      "8269423677974170957667682484224000\n"
     ]
    }
   ],
   "source": [
    "# Creating a function which will take above list as an argument and return the product of all the numbers\n",
    "from functools import reduce\n",
    "\n",
    "def product(x,y):\n",
    "    return x*y\n",
    "result = reduce(product, l1)\n",
    "print (result)"
   ]
  },
  {
   "cell_type": "code",
   "execution_count": null,
   "id": "a91c0fed-a1f0-48d2-bd72-419d221997ea",
   "metadata": {},
   "outputs": [],
   "source": []
  },
  {
   "cell_type": "markdown",
   "id": "654fd2bd-cfa8-4802-b8ea-343d3e3ea8f9",
   "metadata": {},
   "source": [
    "### Q2. Write a python program for encrypting a message sent to you by your friend. \n",
    "\n",
    "The logic of encryption should be such that, for a the output should be z. \n",
    "\n",
    "For b, the output should be y. For c, the output should be x respectively. \n",
    "\n",
    "Also, the whitespace should be replaced with a dollar sign. Keep the punctuation marks unchanged.\n",
    "\n",
    "Input Sentence: I want to become a Data Scientist.\n",
    "\n",
    "Encrypt the above input sentence using the program you just created.\n",
    "\n",
    "Note: Convert the given input sentence into lowercase before encrypting. The final output should be lowercase."
   ]
  },
  {
   "cell_type": "code",
   "execution_count": 1,
   "id": "225f5b72-2c23-4be1-9271-f6604062f43c",
   "metadata": {},
   "outputs": [
    {
     "data": {
      "text/plain": [
       "'r$dzmg$gl$yvxlnv$z$wzgz$hxrvmgrhg.'"
      ]
     },
     "execution_count": 1,
     "metadata": {},
     "output_type": "execute_result"
    }
   ],
   "source": [
    "Solution: \n",
    "    \n",
    "msg1 = \"I want to become a Data Scientist.\"\n",
    "msg = msg1.lower()\n",
    "\n",
    "x = \"abcdefghijklmnopqrstuvwxyz \"\n",
    "y = \"zyxwvutsrqponmlkjihgfedcba$\"\n",
    "\n",
    "mycode = str.maketrans(x,y)\n",
    "encrypted_msg = msg.translate(mycode)\n",
    "encrypted_msg"
   ]
  },
  {
   "cell_type": "code",
   "execution_count": null,
   "id": "a4e84c5b-426e-4053-8a9b-7b11526d2afd",
   "metadata": {},
   "outputs": [],
   "source": []
  }
 ],
 "metadata": {
  "kernelspec": {
   "display_name": "Python 3 (ipykernel)",
   "language": "python",
   "name": "python3"
  },
  "language_info": {
   "codemirror_mode": {
    "name": "ipython",
    "version": 3
   },
   "file_extension": ".py",
   "mimetype": "text/x-python",
   "name": "python",
   "nbconvert_exporter": "python",
   "pygments_lexer": "ipython3",
   "version": "3.10.8"
  }
 },
 "nbformat": 4,
 "nbformat_minor": 5
}
