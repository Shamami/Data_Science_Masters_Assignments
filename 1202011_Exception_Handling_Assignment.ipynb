{
 "cells": [
  {
   "cell_type": "markdown",
   "id": "0eb4ed68-4c00-4efc-ba3d-26934ca626e2",
   "metadata": {},
   "source": [
    "### Q1. What is an Exception in python? Write the difference  between Exceptions and syntax errors  "
   ]
  },
  {
   "cell_type": "markdown",
   "id": "abf83513-d575-4e8b-9158-495739d4bdea",
   "metadata": {},
   "source": [
    "A Python program terminates as soon as it encounters an error. In Python, an error can be a syntax error or an exception.\n",
    "\n",
    "An exception is an event, which occurs during the execution of a program that disrupts the normal flow of the program's instructions. In general, when a Python script encounters a situation that it cannot cope with, it raises an exception. An exception is a Python object that represents an error.\n",
    "\n",
    "Errors and exceptions can lead to unexpected behavior or even stop a program from executing. Python provides various functions and mechanisms to handle these issues and improve the robustness of the code. \n",
    "\n",
    "An error is an issue in a program that prevents the program from completing its task. In comparison, an exception is a condition that interrupts the normal flow of the program. Both errors and exceptions are a type of runtime error, which means they occur during the execution of a program. \n",
    "\n",
    "In simple words, the error is a critical issue that a normal application should not catch, while an exception is a condition that a program should catch. \n",
    "\n",
    "Syntax errors occur when the parser detects an incorrect statement. An exception error occurs whenever syntactically correct Python code results in an error. The last line of the message indicates what type of exception error you ran into. \n",
    "Instead of showing the message exception error, Python details what type of exception error was encountered. Python comes with various built-in exceptions as well as the possibility to create self-defined exceptions.\n",
    "\n",
    "Syntax error\n",
    "This kind of error occurs when the syntax within the code is wrong. It causes the program to terminate. This is usually the result of an oversight on the programmer's part. Syntax errors cannot be guessed, foreseen or handled. Programmers can remove them manually by reviewing the code.\n",
    "\n",
    "Exceptions\n",
    "When the code is syntactically correct, but it still results in an error because of some internal events, it is called an exception. It does not stop the execution, but it changes the normal flow of the program. These are usually logical errors that are non-fatal and recoverable by user programs. Programmers can handle exceptions at the run time through exception handling methods."
   ]
  },
  {
   "cell_type": "code",
   "execution_count": 3,
   "id": "9010eed1-014f-4bf7-a3dc-b462798d159d",
   "metadata": {},
   "outputs": [
    {
     "ename": "SyntaxError",
     "evalue": "unmatched ')' (900334308.py, line 5)",
     "output_type": "error",
     "traceback": [
      "\u001b[0;36m  Cell \u001b[0;32mIn[3], line 5\u001b[0;36m\u001b[0m\n\u001b[0;31m    even(8))\u001b[0m\n\u001b[0m           ^\u001b[0m\n\u001b[0;31mSyntaxError\u001b[0m\u001b[0;31m:\u001b[0m unmatched ')'\n"
     ]
    }
   ],
   "source": [
    "# Example of an syntax error\n",
    "def even (x):\n",
    "    if x%2 == 0:\n",
    "        return True\n",
    "even(8)) "
   ]
  },
  {
   "cell_type": "code",
   "execution_count": 1,
   "id": "61ad3057-1405-4f9f-b7cb-3b523212eb9e",
   "metadata": {},
   "outputs": [
    {
     "ename": "ZeroDivisionError",
     "evalue": "division by zero",
     "output_type": "error",
     "traceback": [
      "\u001b[0;31m---------------------------------------------------------------------------\u001b[0m",
      "\u001b[0;31mZeroDivisionError\u001b[0m                         Traceback (most recent call last)",
      "Cell \u001b[0;32mIn[1], line 3\u001b[0m\n\u001b[1;32m      1\u001b[0m a \u001b[38;5;241m=\u001b[39m \u001b[38;5;241m2\u001b[39m\n\u001b[1;32m      2\u001b[0m b \u001b[38;5;241m=\u001b[39m \u001b[38;5;241m0\u001b[39m\n\u001b[0;32m----> 3\u001b[0m \u001b[38;5;28mprint\u001b[39m(\u001b[43ma\u001b[49m\u001b[38;5;241;43m/\u001b[39;49m\u001b[43mb\u001b[49m)\n",
      "\u001b[0;31mZeroDivisionError\u001b[0m: division by zero"
     ]
    }
   ],
   "source": [
    "# Example of an exception error\n",
    "a = 2\n",
    "b = 0\n",
    "print(a/b)"
   ]
  },
  {
   "cell_type": "code",
   "execution_count": null,
   "id": "d1eb93ae-d7f0-4f87-b60a-1f898175de7e",
   "metadata": {},
   "outputs": [],
   "source": []
  },
  {
   "cell_type": "markdown",
   "id": "44772317-1840-4f86-ac79-5aaac752cede",
   "metadata": {},
   "source": [
    "### Q2. What happens when an exception is not handled? Explain with an example  \n"
   ]
  },
  {
   "cell_type": "markdown",
   "id": "400b2593-c6cc-489a-89fb-52ebd90605d8",
   "metadata": {},
   "source": [
    "The requirement for handling exceptions in Python arises when an error occurs that can cause the program to terminate. Errors interrupt the flow of the program at the point where they appear, so any further code stops executing. This error is called an exception. The exception has to be handled so that the interpreter can execute all the code that exists after the exception. The exception error will crash the program if it is unhandled. The except clause determines how your program responds to exceptions. If the exception is not handled by an except clause, the exception is re-raised after the finally clause has been executed.\n",
    "\n",
    "\n",
    "\n",
    "Some common examples of such errors are dividing a number by zero, adding two incompatible types, trying to access a non-existent index of a sequence or accessing a file that does not exist. These scenarios are called exceptions. When the method cannot handle the exception, it gets thrown out of the main function, causing the program to terminate abruptly. It is necessary to prevent all such unexpected errors so that the program keeps running. Programmers write a special block of code that triggers automatically on detecting such errors. This is called exception handling in Python."
   ]
  },
  {
   "cell_type": "markdown",
   "id": "14e392ed-e325-48c5-a2d1-d8b908ac6194",
   "metadata": {},
   "source": [
    "### Q3. Which Python statements are used to catch and handle exceptions? Explain with an example  \n"
   ]
  },
  {
   "cell_type": "markdown",
   "id": "48af6fe7-f669-45cb-b384-428245725b17",
   "metadata": {},
   "source": [
    "The try and except block in Python is used to catch and handle exceptions. Python executes code following the try statement as a “normal” part of the program. The code that follows the except statement is the program’s response to any exceptions in the preceding try clause.\n",
    "when syntactically correct code runs into an error, Python will throw an exception error. This exception error will crash the program if it is unhandled. The except clause determines how your program responds to exceptions.\n",
    "\n",
    "sometimes we use the pass statement to handle an error and to avoid crashing a program. But it would be nice to see if some type of exception occurred whenever you ran your code. To this end, you can change the pass into something that would generate an informative message.\n",
    "\n",
    "When an exception occurs in a program running this function, the program will continue as well as inform you about the fact that the function call was not successful.\n",
    "\n",
    "What you did not get to see was the type of error that was thrown as a result of the function call. In order to see exactly what went wrong, you would need to catch the error that the function threw.\n",
    "\n",
    "A try clause is executed up until the point where the first exception is encountered.\n",
    "Inside the except clause, or the exception handler, you determine how the program responds to the exception.\n",
    "You can anticipate multiple exceptions and differentiate how the program should respond to them.\n",
    "\n",
    "example where you open a file and use a built-in exception:\n",
    "\n",
    "    try:\n",
    "        with open('file.log') as file:\n",
    "            read_data = file.read()\n",
    "    except:\n",
    "        print('Could not open file.log')\n",
    "    \n",
    "If file.log does not exist, this block of code will output the following:\n",
    "\n",
    "    Could not open file.log\n",
    "\n",
    "This is an informative message, and our program will still continue to run. In the Python docs, you can see that there are a lot of built-in exceptions that you can use here."
   ]
  },
  {
   "cell_type": "code",
   "execution_count": null,
   "id": "25c9da17-0cb1-4e6e-af9c-10c29085c1b5",
   "metadata": {},
   "outputs": [],
   "source": []
  },
  {
   "cell_type": "markdown",
   "id": "36d0f1aa-4bbc-4a09-872f-c4e8635355f1",
   "metadata": {},
   "source": [
    "### Q4. Explain with an example:  try   and else      finally       raise  \n",
    " "
   ]
  },
  {
   "cell_type": "markdown",
   "id": "e335d43f-31e9-4025-b579-299596c76761",
   "metadata": {},
   "source": [
    "##  Try\n",
    "All exception-handling blocks in Python begin with the \"try\" keyword. It is used to check the code for errors. Programmers write only those codes within this block, which might raise an exception. If the code in the try block is error-free, the try block executes, and the subsequent except block is skipped. Here is an example of how the \"try\" keyword is written in code:\n",
    "\n",
    "    try:\n",
    "    # statements\n",
    "\n",
    "In the try clause, all statements are executed until an exception is encountered.\n",
    "You can have more than one function call in your try clause and anticipate catching various exceptions. A thing to note here is that the code in the try clause will stop as soon as an exception is encountered.\n",
    "\n",
    "\n",
    "## Except\n",
    "except is used to catch and handle the exception(s) that are encountered in the try clause.\n",
    "\n",
    "The \"except\" keyword is always used in conjunction with the \"try\" keyword to form try-except blocks. When the program encounters an error in the code within the preceding try block, the code gets handled in the except block. The \"except\" keyword is used to define what to do in case of specific exceptions. Here is an example of how the \"except\" keyword is written in code:\n",
    "\n",
    "    try:\n",
    "    # statements\n",
    "    except:\n",
    "    # statements\n",
    "\n",
    "    # and else# \n",
    "\n",
    "\n",
    "## Else\n",
    "\n",
    "The \"else\" keyword is used in conditional statements along with the \"if\" and \"elif\" keywords. This keyword decides what to do if the provided condition is false. In try-except blocks, the \"else\" keyword can define what to do if no errors are raised in the try block. The else block runs if the except block does not get triggered. Here is an example of how the \"else\" keyword is written in code:\n",
    "\n",
    "    try:\n",
    "    # statements\n",
    "    except:\n",
    "    # statements\n",
    "    else:\n",
    "    # statements\n",
    "\n",
    "else lets you code sections that should run only when no exceptions are encountered in the try clause.\n",
    "In Python, using the else statement, you can instruct a program to execute a certain block of code only in the absence of exceptions.\n",
    "\n",
    "\n",
    "## finally\n",
    "finally enables you to execute sections of code that should always run, with or without any previously encountered exceptions.\n",
    "\n",
    "When you want to run a code, no matter what happens in the try, except or else blocks, you can use the \"finally\" keyword. It is an optional keyword that is always executed after the try-except block. It allows you to define clean-up actions necessary to be executed under all conditions. Here is an example of how the \"finally\" keyword is written in code:\n",
    "\n",
    "    try:\n",
    "    # statements\n",
    "    except:\n",
    "    # statements\n",
    "    finally:\n",
    "    # statements\n",
    "\n",
    "## raise  \n",
    "The \"raise\" keyword is used within the try block to raise exceptions that stop the control flow of the program. This is different from the exceptions naturally raised by Python. The \"raise\" keyword lets the user raise exceptions of their choice. The name of the exception class has to be provided after the \"raise\" keyword. Here is an example of how the \"raise\" keyword is written in code:\n",
    "\n",
    "    try:\n",
    "    raise {name_of_the_exception_class}:\n",
    "    except:\n",
    "    # statements\n",
    "\n",
    "raise allows you to throw an exception at any time.\n",
    "assert enables you to verify if a certain condition is met and throw an exception if it isn’t.\n",
    "\n"
   ]
  },
  {
   "cell_type": "markdown",
   "id": "0ccbd119-5b0c-469a-882b-2fc819a54419",
   "metadata": {},
   "source": [
    "### Q5. What are Custom Exceptions in python? Why do we need Custom Exceptions? Explain with an example  \n"
   ]
  },
  {
   "cell_type": "markdown",
   "id": "7520f96c-1523-46e9-a976-d79d2ceea38f",
   "metadata": {},
   "source": [
    "Custom or User-defined Exceptions are designed as per the requirement of the program. Using custom Exception we can have our own Exception and a meaningful message explaining the cause of the exception. We can create an exception by extending the Exception or RuntimeException class in our own Exception class.\n",
    "\n",
    "\n",
    "Like standard exception classes, custom exceptions are also classes. Hence, you can add functionality to the custom exception classes like: Adding attributes and properties. Adding methods e.g., log the exception, format the output, etc. Overriding the __str__ and __repr__ methods\n",
    "And doing anything else that you can do with regular classes.\n",
    "In practice, you’ll want to keep the custom exceptions organized by creating a custom exception hierarchy. The custom exception hierarchy allows you to catch exceptions at multiple levels, like the standard exception classes.\n",
    "\n",
    "\n",
    "Built-in exceptions offer information about Python-related problems, and custom exceptions will add information about project-related problems. That way, you can design your code (and traceback, if an exception is raised) in a way that combines Python code with the language of the project."
   ]
  },
  {
   "cell_type": "markdown",
   "id": "94c7167d-171f-47b7-84ae-c5950a49a5f8",
   "metadata": {},
   "source": [
    "### Q6. Create  custom exception class. Use this class to handle an exception."
   ]
  },
  {
   "cell_type": "code",
   "execution_count": null,
   "id": "1f9529e9-5b81-45af-8e20-13686f1a7989",
   "metadata": {},
   "outputs": [],
   "source": [
    "To create a custom exception class, you define a class that inherits from the built-in Exception class or one of its subclasses such as ValueError class:\n",
    "\n"
   ]
  },
  {
   "cell_type": "code",
   "execution_count": null,
   "id": "c7d25282-39cd-47da-bf5a-ffc8f99829ba",
   "metadata": {},
   "outputs": [],
   "source": [
    "The following example defines a CustomException class that inherits from the Exception class:\n",
    "\n",
    "    \n",
    "Note that the CustomException class has a docstring that behaves like a statement. Therefore, you don’t need to add the pass statement to make the syntax valid.\n",
    "\n",
    "To raise the CustomException, you use the raise statement. For example, the following uses the raise statement to raise the CustomException:"
   ]
  },
  {
   "cell_type": "code",
   "execution_count": null,
   "id": "85d98ec9-77c7-4e39-8b86-2ff1148ff412",
   "metadata": {},
   "outputs": [],
   "source": [
    "class CustomException(Exception):\n",
    "    \"\"\" my custom exception class \"\"\"\n",
    "try:\n",
    "    raise CustomException('This is my custom exception')\n",
    "except CustomException as ex:\n",
    "    print(ex)"
   ]
  },
  {
   "cell_type": "code",
   "execution_count": null,
   "id": "b1f4ca40-0cdf-4345-be3b-60146ad6259d",
   "metadata": {},
   "outputs": [],
   "source": []
  },
  {
   "cell_type": "code",
   "execution_count": null,
   "id": "e1e4dcc4-b2bd-4bfd-ada9-88e738eac0a2",
   "metadata": {},
   "outputs": [],
   "source": [
    "Suppose you need to develop a program that converts a temperature from Fahrenheit to Celsius.\n",
    "\n",
    "The minimum and maximum values of a temperature in Fahrenheit are 32 and 212. If users enter a value that is not in this range, you want to raise a custom exception e.g., FahrenheitError.\n",
    "The following defines the FahrenheitError exception class:\n",
    "    First, define the FahrenheitError class that inherits from the Exception class.\n",
    "Second, add two class attributes min_f and max_f that represent the minimum and maximum Fahrenheit values.\n",
    "Third, define the __init__ method that accepts a Fahrenheit value (f) and a number of position arguments (*args). In the __init__ method, call the __init__ method of the base class. Also, assign the f argument to the f instance attribute.\n",
    "Finally, override the __str__ method to return a custom string representation of the class instance."
   ]
  },
  {
   "cell_type": "code",
   "execution_count": null,
   "id": "06eb5393-e396-48f7-a728-3da8b235dd46",
   "metadata": {},
   "outputs": [],
   "source": [
    "class FahrenheitError(Exception):\n",
    "    min_f = 32\n",
    "    max_f = 212\n",
    "\n",
    "    def __init__(self, f, *args):\n",
    "        super().__init__(args)\n",
    "        self.f = f\n",
    "\n",
    "    def __str__(self):\n",
    "        return f'The {self.f} is not in a valid range {self.min_f, self.max_f}'"
   ]
  },
  {
   "cell_type": "code",
   "execution_count": null,
   "id": "9c9976e3-570b-4876-baee-e301543f6dfd",
   "metadata": {},
   "outputs": [],
   "source": [
    "\n",
    "# Define the fahrenheit_to_celsius function\n",
    "# The following defines the fahrenheit_to_celsius function that accepts a temperature in Fahrenheit and returns a temperature in Celcius:\n",
    "def fahrenheit_to_celsius(f: float) -> float:\n",
    "    if f < FahrenheitError.min_f or f > FahrenheitError.max_f:\n",
    "        raise FahrenheitError(f)\n",
    "\n",
    "    return (f - 32) * 5 / 9\n",
    "\n",
    "# The fahrenheit_to_celsius function raises the FahrenheitError excpetion if the input temperature is not in the valid range. Otherwise, it converts the temperature from Fahrenheit to Celcius."
   ]
  },
  {
   "cell_type": "code",
   "execution_count": null,
   "id": "76d71c8c-2e8f-4868-9e79-f9ad794b9653",
   "metadata": {},
   "outputs": [],
   "source": [
    "# Create the main program\n",
    "# The following main program uses the fahrenheit_to_celsius function and the FahrenheitError custom exception class:\n",
    "\n",
    "if __name__ == '__main__':\n",
    "    f = input('Enter a temperature in Fahrenheit:')\n",
    "    try:\n",
    "        f = float(f)\n",
    "    except ValueError as ex:\n",
    "        print(ex)\n",
    "    else:\n",
    "        try:\n",
    "            c = fahrenheit_to_celsius(float(f))\n",
    "        except FahrenheitError as ex:\n",
    "            print(ex)\n",
    "        else:\n",
    "            print(f'{f} Fahrenheit = {c:.4f} Celsius'"
   ]
  },
  {
   "cell_type": "code",
   "execution_count": null,
   "id": "63dca193-a3dd-4eec-a72f-b8324472a334",
   "metadata": {},
   "outputs": [],
   "source": [
    "# First, prompt users for a temperature in Fahrenheit.\n",
    "f = input('Enter a temperature in Fahrenheit:')\n",
    "\n",
    "# Second, convert the input value into a float. If the float() cannot convert the input value, the program will raise a ValueError exception. In this case, it displays the error message from the ValueError exception:\n",
    "\n",
    "try:\n",
    "    f = float(f)\n",
    "    # ...\n",
    "except ValueError as ex:\n",
    "    print(ex)"
   ]
  },
  {
   "cell_type": "code",
   "execution_count": null,
   "id": "285daf82-0bde-4ab5-b242-1aa530a299e7",
   "metadata": {},
   "outputs": [],
   "source": [
    "Third, convert the temperature to Celsius by calling the fahrenheit_to_celsius function and print the error message if the input value is not a valid Fahrenheit value:\n",
    "\n",
    "\n",
    "try:\n",
    "    c = fahrenheit_to_celsius(float(f))\n",
    "except FahrenheitError as ex:\n",
    "    print(ex)\n",
    "else:\n",
    "    print(f'{f} Fahrenheit = {c:.4f} Celsius')"
   ]
  },
  {
   "cell_type": "code",
   "execution_count": null,
   "id": "f696527c-c638-459c-8ea1-722f95b9ea9e",
   "metadata": {},
   "outputs": [],
   "source": [
    "# Put it all together\n",
    "\n",
    "class FahrenheitError(Exception):\n",
    "    min_f = 32\n",
    "    max_f = 212\n",
    "\n",
    "    def __init__(self, f, *args):\n",
    "        super().__init__(args)\n",
    "        self.f = f\n",
    "\n",
    "    def __str__(self):\n",
    "        return f'The {self.f} is not in a valid range {self.min_f, self.max_f}'\n",
    "\n",
    "\n",
    "def fahrenheit_to_celsius(f: float) -> float:\n",
    "    if f < FahrenheitError.min_f or f > FahrenheitError.max_f:\n",
    "        raise FahrenheitError(f)\n",
    "\n",
    "    return (f - 32) * 5 / 9\n",
    "\n",
    "\n",
    "if __name__ == '__main__':\n",
    "    f = input('Enter a temperature in Fahrenheit:')\n",
    "    try:\n",
    "        f = float(f)\n",
    "    except ValueError as ex:\n",
    "        print(ex)\n",
    "    else:\n",
    "        try:\n",
    "            c = fahrenheit_to_celsius(float(f))\n",
    "        except FahrenheitError as ex:\n",
    "            print(ex)\n",
    "        else:\n",
    "            print(f'{f} Fahrenheit = {c:.4f} Celsius')"
   ]
  }
 ],
 "metadata": {
  "kernelspec": {
   "display_name": "Python 3 (ipykernel)",
   "language": "python",
   "name": "python3"
  },
  "language_info": {
   "codemirror_mode": {
    "name": "ipython",
    "version": 3
   },
   "file_extension": ".py",
   "mimetype": "text/x-python",
   "name": "python",
   "nbconvert_exporter": "python",
   "pygments_lexer": "ipython3",
   "version": "3.10.8"
  }
 },
 "nbformat": 4,
 "nbformat_minor": 5
}
