{
 "cells": [
  {
   "cell_type": "markdown",
   "id": "8d75323e-ab4a-4e2d-a318-2b9f79b9dabd",
   "metadata": {},
   "source": [
    "Q1. What is multiprocessing in python? Why is it useful?"
   ]
  },
  {
   "cell_type": "markdown",
   "id": "22c6e692-21c3-4145-bea8-d102dc41e8ba",
   "metadata": {},
   "source": [
    "Multiprocessing is a package in Python that supports spawning processes using an API similar to the threading module. It allows the programmer to fully leverage multiple processors on a given machine, effectively side-stepping the Global Interpreter Lock by using subprocesses instead of threads. The multiprocessing package offers both local and remote concurrency, making it useful for a wide range of applications.\n",
    "\n",
    "The following are some of the benefits of using multiprocessing in Python:\n",
    "\n",
    "Improved performance: Multiprocessing can improve the performance of CPU-bound tasks by taking advantage of multiple cores or CPUs.\n",
    "Parallel processing: Multiprocessing allows you to execute multiple tasks simultaneously, which can be useful for I/O-bound tasks such as web scraping or data processing.\n",
    "Fault tolerance: Since each process runs independently and has its own memory space, if one process crashes, it does not affect other processes.\n",
    "Simplified code: The multiprocessing module offers APIs which do not have analogs in the threading module. For example, the Pool object offers a convenient means of parallelizing the execution of a function across multiple input values, distributing the input data across processes (data parallelism) ."
   ]
  },
  {
   "cell_type": "markdown",
   "id": "556f9122-1c99-429e-9302-2b1d2c110dea",
   "metadata": {},
   "source": [
    "Q2. What are the differences between multiprocessing and multithreading?"
   ]
  },
  {
   "cell_type": "markdown",
   "id": "6e1d0a76-8b19-40c3-b2db-60b27d97dc21",
   "metadata": {},
   "source": [
    "In computing, both multiprocessing and multithreading are techniques used to increase the computing power of a system. Multiprocessing is a system that has more than one or two processors. In multiprocessing, CPUs are added for increasing computing speed of the system. Because of multiprocessing, many processes are executed simultaneously. Multiprocessing are classified into two categories: 1. Symmetric Multiprocessing 2. Asymmetric Multiprocessing 1.\n",
    "\n",
    "On the other hand, multithreading is a system in which multiple threads are created of a process for increasing the computing speed of the system. In multithreading, many threads of a process are executed simultaneously and process creation in multithreading is done according to economical 1.\n",
    "\n",
    "The main differences between multiprocessing and multithreading are as follows:\n",
    "\n",
    "Multiprocessing\t\n",
    "In multiprocessing, CPUs are added for increasing computing power\n",
    "In multiprocessing, many processes are executed simultaneously\n",
    "Multiprocessing are classified into Symmetric and Asymmetric\n",
    "In multiprocessing, process creation is a time-consuming process\n",
    "In multiprocessing, every process owned a separate address space\n",
    "\n",
    "Multithreading\n",
    "In multithreading, many threads are created of a single process for increasing computing power\n",
    "In multithreading, many threads of a process are executed simultaneously\n",
    "Multithreading is not classified in any categories\n",
    "In multithreading, process creation is according to economical\n",
    "In multithreading, a common address space is shared by all the threads\n"
   ]
  },
  {
   "cell_type": "markdown",
   "id": "5f3b5df1-323f-402e-beb3-f21ea8152e9f",
   "metadata": {},
   "source": [
    "Q3. Write a python code to create a process using the multiprocessing module."
   ]
  },
  {
   "cell_type": "code",
   "execution_count": 1,
   "id": "b20c5ca1-46ca-4b43-b76f-c2e711fd327f",
   "metadata": {},
   "outputs": [
    {
     "name": "stdout",
     "output_type": "stream",
     "text": [
      "This is a new process!\n"
     ]
    }
   ],
   "source": [
    "# Here is a Python code to create a process using the multiprocessing module:\n",
    "import multiprocessing\n",
    "\n",
    "def my_process():\n",
    "    print(\"This is a new process!\")\n",
    "\n",
    "if __name__ == '__main__':\n",
    "    p = multiprocessing.Process(target=my_process)\n",
    "    p.start()\n",
    "    p.join()\n",
    "    \n",
    "# In the above code, we first import the multiprocessing module. \n",
    "# We then define a function my_process() that will be executed as a separate process. \n",
    "# We then create a new process using the Process() constructor and pass our function as an argument to the target parameter. \n",
    "# Finally, we start the process using the start() method and wait for it to finish using the join() method."
   ]
  },
  {
   "cell_type": "markdown",
   "id": "ac6c8c6e-93fb-4c7a-914a-4570f4bf07b8",
   "metadata": {},
   "source": [
    "Q4. What is a multiprocessing pool in python? Why is it used?"
   ]
  },
  {
   "cell_type": "markdown",
   "id": "438759d9-8b5f-4975-8d3e-680b869149d1",
   "metadata": {},
   "source": [
    "A multiprocessing pool is a Python module that provides a convenient way to parallelize the execution of a function across multiple input values, distributing the input data across processes (data parallelism) 1. It is part of the multiprocessing package, which supports spawning processes using an API similar to the threading module.\n",
    "\n",
    "The Pool object in multiprocessing module offers both local and remote concurrency, effectively side-stepping the Global Interpreter Lock by using subprocesses instead of threads. Due to this, the multiprocessing module allows the programmer to fully leverage multiple processors on a given machine. The Pool object can be used to create a fixed number of worker processes that can be reused for executing tasks. The number of worker processes in the pool can be specified when creating the pool object.\n",
    "\n",
    "The Pool object offers a convenient means of parallelizing the execution of a function across multiple input values, distributing the input data across processes (data parallelism). This is useful when we have a large amount of data to process and we want to speed up the processing time by using multiple processors. The Pool object can be used to apply a function to each element in an iterable in parallel.\n",
    "\n"
   ]
  },
  {
   "cell_type": "code",
   "execution_count": 2,
   "id": "fa29a74f-e941-4739-915b-4e3bedcdcc5f",
   "metadata": {},
   "outputs": [
    {
     "name": "stdout",
     "output_type": "stream",
     "text": [
      "[1, 4, 9]\n"
     ]
    }
   ],
   "source": [
    "# In this example, we create a pool of 5 worker processes and apply the square function to each element in the list [1, 2, 3]. \n",
    "# The map method returns a list of results after applying the function to each element in the iterable 3.\n",
    "\n",
    "from multiprocessing import Pool\n",
    "\n",
    "def square(x):\n",
    "    return x*x\n",
    "\n",
    "if __name__ == '__main__':\n",
    "    with Pool(5) as p:\n",
    "        print(p.map(square, [1, 2, 3]))\n",
    "        "
   ]
  },
  {
   "cell_type": "code",
   "execution_count": null,
   "id": "542c1200-064d-4564-a93c-d4f641cb73b6",
   "metadata": {},
   "outputs": [],
   "source": []
  },
  {
   "cell_type": "markdown",
   "id": "bd466d03-e919-4e0b-9bb9-43378b59635d",
   "metadata": {},
   "source": [
    "Q5. How can we create a pool of worker processes in python using the multiprocessing module?"
   ]
  },
  {
   "cell_type": "markdown",
   "id": "410de7f6-2e1a-489e-8b4c-60eeca93d331",
   "metadata": {},
   "source": [
    "To create a pool of worker processes in Python using the multiprocessing module, you can follow these steps:\n",
    "\n",
    "Import the multiprocessing module.\n",
    "Define a worker function that will perform the desired tasks.\n",
    "Create an input data list that contains the data for each task.\n",
    "Create a Pool object with the desired number of worker processes.\n",
    "Use the Pool.map() function to pass the worker function and input data list to the Pool.\n",
    "\n",
    "In the following  example, we define a worker_function that takes in some data and performs some task on it. We then create an input data list containing the data for each task.\n",
    "\n",
    "Next, we create a Pool object with num_processes worker processes and use the map() function to pass the worker function and input data list to the Pool. The map() function returns a list of results from each task.\n",
    "\n",
    "Finally, we print out the results.\n",
    "\n",
    "You can configure the number of worker processes in the Pool by setting the processes argument in the constructor. If processes is not provided, then the number of worker processes used will be equal to the number of CPUs on your machine."
   ]
  },
  {
   "cell_type": "code",
   "execution_count": null,
   "id": "ae7126e5-fe1b-4bd7-97db-d52c8462d896",
   "metadata": {},
   "outputs": [],
   "source": [
    "import multiprocessing\n",
    "\n",
    "def worker_function(data):\n",
    "    # Perform some task on data\n",
    "    return result\n",
    "\n",
    "if __name__ == '__main__':\n",
    "    input_data = [1, 2, 3, 4, 5]\n",
    "    num_processes = 4\n",
    "\n",
    "    with multiprocessing.Pool(num_processes) as pool:\n",
    "        results = pool.map(worker_function, input_data)\n",
    "\n",
    "    print(results)"
   ]
  },
  {
   "cell_type": "markdown",
   "id": "7acfb222-4117-4a3a-9aab-bc84b3140c21",
   "metadata": {},
   "source": [
    "Q6. Write a python program to create 4 processes, each process should print a different number using the multiprocessing module in python."
   ]
  },
  {
   "cell_type": "code",
   "execution_count": null,
   "id": "66ca8f99-f5c7-4915-81fa-d617ef2a18dc",
   "metadata": {},
   "outputs": [],
   "source": [
    "# Here is a Python program that uses the multiprocessing module to create 4 processes, each printing a different number:\n",
    "\n",
    "import multiprocessing\n",
    "\n",
    "def print_number(num):\n",
    "    print(f\"Process {num}: {num}\")\n",
    "\n",
    "if __name__ == \"__main__\":\n",
    "    processes = []\n",
    "    for i in range(4):\n",
    "        process = multiprocessing.Process(target=print_number, args=(i,))\n",
    "        processes.append(process)\n",
    "        process.start()\n",
    "\n",
    "    for process in processes:\n",
    "        process.join()\n",
    "        \n",
    "# The multiprocessing.Process class is used to create a new process. \n",
    "# The target parameter specifies the function to be run in the new process, and the args parameter is used to pass arguments to the function. \n",
    "# In this case, we are passing the number of the process to the print_number function.\n",
    "# The if __name__ == \"__main__\": block is used to ensure that the code is only run when the script is executed directly, and not when it is imported as a module.\n",
    "# The processes list is used to keep track of the processes that are created. We create 4 processes in a loop, and append each one to the list. \n",
    "# Then we start each process using the start() method.\n",
    "# Finally, we use another loop to wait for each process to finish using the join() method."
   ]
  }
 ],
 "metadata": {
  "kernelspec": {
   "display_name": "Python 3 (ipykernel)",
   "language": "python",
   "name": "python3"
  },
  "language_info": {
   "codemirror_mode": {
    "name": "ipython",
    "version": 3
   },
   "file_extension": ".py",
   "mimetype": "text/x-python",
   "name": "python",
   "nbconvert_exporter": "python",
   "pygments_lexer": "ipython3",
   "version": "3.10.8"
  }
 },
 "nbformat": 4,
 "nbformat_minor": 5
}
