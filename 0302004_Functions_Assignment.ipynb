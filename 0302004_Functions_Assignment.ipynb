{
 "cells": [
  {
   "cell_type": "markdown",
   "id": "9b52a216-240e-495a-800a-159ecfad9ac2",
   "metadata": {},
   "source": [
    "Q1. Which keyword is used to create a function? Create a function to return a list of odd numbers in the\n",
    "range of 1 to 25."
   ]
  },
  {
   "cell_type": "markdown",
   "id": "e5b75bf5-285d-4d0c-b4fe-372574840f2d",
   "metadata": {},
   "source": [
    "Solution:\n",
    "\n",
    "a function defined with the def keyword, then write the function identifier (name) followed by parentheses and a colon. \n",
    "The next thing you do is make sure to indent with a tab or 4 spaces, and then specify what you want the function to do for you."
   ]
  },
  {
   "cell_type": "code",
   "execution_count": 6,
   "id": "737084bc-e92b-48c7-b8ff-cdcd352b4aa9",
   "metadata": {},
   "outputs": [
    {
     "data": {
      "text/plain": [
       "[1, 3, 5, 7, 9, 11, 13, 15, 17, 19, 21, 23]"
      ]
     },
     "execution_count": 6,
     "metadata": {},
     "output_type": "execute_result"
    }
   ],
   "source": [
    "# Creating a function to return a list of odd numbers in the range of 1 to 25.\n",
    "def number_odd ():\n",
    "    n = []\n",
    "    for i in range(1,25) :\n",
    "        if i % 2 != 0 :\n",
    "            n.append (i)\n",
    "    return n\n",
    "\n",
    "number_odd ()"
   ]
  },
  {
   "cell_type": "code",
   "execution_count": null,
   "id": "a166cfe7-b09e-45b6-b4c3-f42d255fab3d",
   "metadata": {},
   "outputs": [],
   "source": []
  },
  {
   "cell_type": "markdown",
   "id": "cbb2d9d1-8e50-4e16-b23c-fe6bd987a203",
   "metadata": {},
   "source": [
    "Q2. Why *args and **kwargs is used in some functions? Create a function each for *args and **kwargs to demonstrate their use."
   ]
  },
  {
   "cell_type": "markdown",
   "id": "1d79ac13-4634-49d2-992a-a03cc169e2ad",
   "metadata": {},
   "source": [
    "Solution:\n",
    "\n",
    "We use *args and **kwargs as an argument when we are unsure about the number of arguments to pass in the functions.\n",
    "The special syntax *args in function definitions in python is used to pass a variable number of arguments to a function. \n",
    "It is used to pass a non-key worded, variable-length argument list. \n",
    "The special syntax **kwargs in function definitions in python is used to pass a keyworded, variable-length argument list. \n",
    "We use the name kwargs with the double star. The reason is that the double star allows us to pass through keyword arguments (and any number of them).\n"
   ]
  },
  {
   "cell_type": "code",
   "execution_count": 6,
   "id": "e472c98b-6ba6-4115-b3fb-c2167648c4a9",
   "metadata": {},
   "outputs": [
    {
     "name": "stdout",
     "output_type": "stream",
     "text": [
      "Solution for Example 1\n",
      "5\n",
      "10\n",
      "17\n",
      "26\n",
      "Solution for Example 2 {'Maths': 50, 'Science': 70, 'English': 80}\n"
     ]
    }
   ],
   "source": [
    "# Example 1: creating a function to demonstarte the use of *args\n",
    "def add(*args):\n",
    "    total = 0\n",
    "    for num in args:\n",
    "        total += num\n",
    "    return total\n",
    "\n",
    "print(\"Solution for Example 1\")\n",
    "print(add(2, 3))\n",
    "print(add(2, 3, 5))\n",
    "print(add(2, 3, 5, 7))\n",
    "print(add(2, 3, 5, 7, 9))\n",
    "\n",
    "# Example 2: creating a function to demonstarte the use of **kwargs\n",
    "def total_marks(**kwargs):\n",
    "    print(\"Solution for Example 2\", kwargs)\n",
    "\n",
    "\n",
    "total_marks(Maths = 50, Science = 70, English = 80)"
   ]
  },
  {
   "cell_type": "code",
   "execution_count": null,
   "id": "e351d6bc-7d8b-4e17-a067-0b7e757f43e4",
   "metadata": {},
   "outputs": [],
   "source": []
  },
  {
   "cell_type": "markdown",
   "id": "e3c36333-0d94-4434-b3ba-d50711edea88",
   "metadata": {},
   "source": [
    "Q3. What is an iterator in python? Name the method used to initialise the iterator object and the method used for iteration. Use these methods to print the first five elements of the given list [2, 4, 6, 8, 10, 12, 14, 16, 18, 20]."
   ]
  },
  {
   "cell_type": "markdown",
   "id": "c00d3820-8b8a-49e7-8573-2449f23a4b04",
   "metadata": {},
   "source": [
    "Solution:\n",
    "\n",
    "An iterator is an object that is used to iterate or loop through the elements or items in the collections such as List, Set, etc.\n",
    "Iterator: the name came from iterating which is a technical term for looping the elements.\n",
    "An iterator is an object which is meant for the purpose of nothing but looping through iterable objects like lists, tuples, dicts, and strings.\n",
    "\n",
    "Instantiating the Iterator in Python\n",
    "The iterator consists of two methods: \n",
    "\n",
    "iter() and \n",
    "next().  \n",
    "Iter() method is used to initialize the iterator object so that the instance of this object can be used for iterating.\n",
    "\n",
    "Syntax is\n",
    "\n",
    "myiterator = iter()\n",
    "\n",
    "Iteration of the Iterator\n",
    "The next() method is used to iterate over the iterable objects. The next() method returns the next value in the iterable object.\n",
    "\n",
    "Syntax is\n",
    "\n",
    "item = next(myiterator)\n"
   ]
  },
  {
   "cell_type": "code",
   "execution_count": 4,
   "id": "6244d510-a594-4a9c-8272-773616642a7f",
   "metadata": {},
   "outputs": [
    {
     "name": "stdout",
     "output_type": "stream",
     "text": [
      "2\n",
      "4\n",
      "6\n",
      "8\n",
      "10\n"
     ]
    }
   ],
   "source": [
    "# Example: Using these methods to print the first five elements of the given list [2, 4, 6, 8, 10, 12, 14, 16, 18, 20].\n",
    "\n",
    "given_list = [2, 4, 6, 8, 10, 12, 14, 16, 18, 20]\n",
    "\n",
    "list_iter = iter (given_list)\n",
    "\n",
    "print (next (list_iter))\n",
    "print (next (list_iter))\n",
    "print (next (list_iter))\n",
    "print (next (list_iter))\n",
    "print (next (list_iter))"
   ]
  },
  {
   "cell_type": "code",
   "execution_count": null,
   "id": "49c1cf56-34ba-4eb3-b6e5-6ced6abfe237",
   "metadata": {},
   "outputs": [],
   "source": []
  },
  {
   "cell_type": "markdown",
   "id": "aee3da40-025d-4c97-b99e-8c3d3a04c2a0",
   "metadata": {},
   "source": [
    "Q4. What is a generator function in python? Why yield keyword is used? Give an example of a generator function."
   ]
  },
  {
   "cell_type": "markdown",
   "id": "1a824578-2293-4c85-8b27-bee711fa316a",
   "metadata": {},
   "source": [
    "Solution:\n",
    "\n",
    "Generator Functions: \n",
    "\n",
    "In Python, a generator is a function that returns an iterator that produces a sequence of values when iterated over. \n",
    "Generators are useful when we want to produce a large sequence of values, but we don't want to store all of them in memory at once.\n",
    "\n",
    "Python Generator functions allow you to declare a function that behaves likes an iterator, allowing programmes iterate in a fast, easy, and clean way.\n",
    "An iterator is an object that can be iterated or looped upon. It is used to abstract a container of data to make it behave like an iterable object.\n",
    "\n",
    "The main difference between a regular function and generator functions is that the state of generator functions are maintained through the use of the keyword yield and works much like using return, but it has some important differences. \n",
    "\n",
    "Yield: \n",
    "\n",
    "It is responsible for controlling the flow of the generator function.  yield saves the state of the function. After returning the value from yield, it pauses the execution by saving the states.\n",
    "\n",
    "The next time the function is called, execution continues from where it left off, with the same variable values it had before yielding, whereas the return statement terminates the function completely. \n",
    "\n",
    "Another difference is that generator functions don’t even run a function, it only creates and returns a generator object.\n",
    "\n"
   ]
  },
  {
   "cell_type": "code",
   "execution_count": 3,
   "id": "90bac607-b5f1-4368-9a32-b7a2213d29df",
   "metadata": {},
   "outputs": [
    {
     "name": "stdout",
     "output_type": "stream",
     "text": [
      "0\n",
      "1\n",
      "1\n",
      "2\n",
      "3\n",
      "5\n",
      "8\n",
      "13\n",
      "21\n",
      "34\n"
     ]
    }
   ],
   "source": [
    "# Example of a generator function: The Fibonacci Numbers\n",
    "    \n",
    "def test_fib(n):\n",
    "    a,b = 0,1\n",
    "    for i in range(n):\n",
    "        yield a\n",
    "        a,b = b,a+b\n",
    "        \n",
    "for i in test_fib(10):\n",
    "    print(i)     "
   ]
  },
  {
   "cell_type": "code",
   "execution_count": null,
   "id": "25936913-3bda-4cec-bde9-fab126cea893",
   "metadata": {},
   "outputs": [],
   "source": []
  },
  {
   "cell_type": "markdown",
   "id": "ddd079d9-cba1-4767-99ef-0ead02b5c01f",
   "metadata": {},
   "source": [
    "Q5. Create a generator function for prime numbers less than 1000. Use the next() method to print the first 20 prime numbers."
   ]
  },
  {
   "cell_type": "code",
   "execution_count": 3,
   "id": "05b6508c-0502-4850-9ae6-9afd740fd0bd",
   "metadata": {},
   "outputs": [
    {
     "name": "stdout",
     "output_type": "stream",
     "text": [
      "2\n",
      "3\n",
      "5\n",
      "7\n",
      "11\n",
      "13\n",
      "17\n",
      "19\n",
      "23\n",
      "29\n",
      "31\n",
      "37\n",
      "41\n",
      "43\n",
      "47\n",
      "53\n",
      "59\n",
      "61\n",
      "67\n",
      "71\n"
     ]
    }
   ],
   "source": [
    "from math import sqrt\n",
    "\n",
    "def is_prime(n):\n",
    "    if (n <= 1):\n",
    "        return False\n",
    "    if (n == 2):\n",
    "        return True\n",
    "    if (n % 2 == 0):\n",
    "        return False\n",
    "    if (n > 1000):\n",
    "        return False\n",
    "        \n",
    "    i = 3\n",
    "    while i <= sqrt(n):\n",
    "        if n % i == 0:\n",
    "            return False\n",
    "        i = i + 2\n",
    "\n",
    "    return True\n",
    "\n",
    "def prime_generator():\n",
    "    n = 1   \n",
    "    while True:\n",
    "        n += 1       \n",
    "        if is_prime(n):\n",
    "            yield n\n",
    "            \n",
    "generator = prime_generator()\n",
    "\n",
    "for i in range(20):\n",
    "    print(next(generator))"
   ]
  },
  {
   "cell_type": "code",
   "execution_count": null,
   "id": "673e5b2e-17c8-481d-b562-afd2c9737cb3",
   "metadata": {},
   "outputs": [],
   "source": []
  }
 ],
 "metadata": {
  "kernelspec": {
   "display_name": "Python 3 (ipykernel)",
   "language": "python",
   "name": "python3"
  },
  "language_info": {
   "codemirror_mode": {
    "name": "ipython",
    "version": 3
   },
   "file_extension": ".py",
   "mimetype": "text/x-python",
   "name": "python",
   "nbconvert_exporter": "python",
   "pygments_lexer": "ipython3",
   "version": "3.10.8"
  }
 },
 "nbformat": 4,
 "nbformat_minor": 5
}
