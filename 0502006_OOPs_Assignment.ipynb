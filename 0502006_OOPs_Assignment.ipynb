{
 "cells": [
  {
   "cell_type": "markdown",
   "id": "0c9c42b8-c853-4fa3-8e32-d7549cb6fe38",
   "metadata": {},
   "source": [
    "### Q1. Explain Class and Object with respect to Object-Oriented Programming. Give a suitable example.\n"
   ]
  },
  {
   "cell_type": "markdown",
   "id": "341935d7-abc7-499b-a05f-841ffcac1e1f",
   "metadata": {},
   "source": [
    "Python is an object oriented programming language.Almost everything in Python is an object, with its properties and methods.\n",
    "\n",
    "The structure, or building blocks, of object-oriented programming is based on the following:\n",
    "\n",
    "Classes:\n",
    "\n",
    "A Class is like an object constructor, or a \"blueprint\" for creating objects. Classes are user-defined data types that act as the blueprint for individual objects, attributes and methods. \n",
    "As class is considered as a blueprint of objects. We can think of the class as a sketch (prototype) of a house. It contains all the details about the floors, doors, windows, etc. Based on these descriptions we build the house. House is the object.Since many houses can be made from the same description, we can create many objects from a class.\n",
    "\n",
    "Objects:\n",
    "\n",
    "Objects are instances of a class created with specifically defined data. Objects can correspond to real-world objects or an abstract entity.\n",
    "For example, suppose Bike is a class then we can create objects like bike1, bike2, etc from the class.\n",
    "When class is defined initially, the description is the only object that is defined.\n",
    "\n",
    "Methods:\n",
    "\n",
    "Methods are functions that are defined inside a class that describe the behaviors of an object. Each method contained in class definitions starts with a reference to an instance object. Additionally, the subroutines contained in an object are called instance methods. Programmers use methods for reusability or keeping functionality encapsulated inside one object at a time.\n",
    "\n",
    "Attributes:\n",
    "\n",
    "Attributes are defined in the class template and represent the state of an object. Objects will have data stored in the attributes field. Class attributes belong to the class itself.\n"
   ]
  },
  {
   "cell_type": "code",
   "execution_count": 8,
   "id": "5b712888-d6a2-458d-ad6e-39c1c88dc1f3",
   "metadata": {},
   "outputs": [
    {
     "name": "stdout",
     "output_type": "stream",
     "text": [
      "Hello my name is Rohan\n",
      "Hello my name is Sohan\n",
      "Hello my name is Mohan\n"
     ]
    }
   ],
   "source": [
    "# Example for explaining Class and object in OOPs\n",
    "\n",
    "# Creating a class named Person, using the __init__() function to assign values for name and age:\n",
    "class Person:\n",
    "    def __init__(self, name, age):\n",
    "        self.name = name\n",
    "        self.age = age\n",
    "\n",
    "    # Inserting a function that prints a greeting, and execute it on the p1 object:\n",
    "    def myfunc(self):\n",
    "        print(\"Hello my name is \" + self.name)\n",
    "\n",
    "p1 = Person(\"Rohan\", 36)\n",
    "p2 = Person(\"Sohan\", 56)\n",
    "p3 = Person(\"Mohan\", 26)\n",
    "\n",
    "p1.myfunc()\n",
    "p2.myfunc()\n",
    "p3.myfunc()"
   ]
  },
  {
   "cell_type": "markdown",
   "id": "a5985102-209d-46e2-8d16-de17eda8728f",
   "metadata": {},
   "source": [
    "### Q2. Name the four pillars of OOPs.\n"
   ]
  },
  {
   "cell_type": "markdown",
   "id": "23c992be-489c-43b1-989a-d02d9eae5852",
   "metadata": {},
   "source": [
    "Object-oriented programming is based on the following four pillars:\n",
    "\n",
    "Encapsulation. \n",
    "\n",
    "This principle states that all important information is contained inside an object and only select information is exposed. The implementation and state of each object are privately held inside a defined class. Other objects do not have access to this class or the authority to make changes. They are only able to call a list of public functions or methods. This characteristic of data hiding provides greater program security and avoids unintended data corruption.\n",
    "\n",
    "Abstraction. \n",
    "\n",
    "Objects only reveal internal mechanisms that are relevant for the use of other objects, hiding any unnecessary implementation code. The derived class can have its functionality extended. This concept can help developers more easily make additional changes or additions over time.\n",
    "\n",
    "Inheritance. \n",
    "\n",
    "Classes can reuse code from other classes. Relationships and subclasses between objects can be assigned, enabling developers to reuse common logic while still maintaining a unique hierarchy. This property of OOP forces a more thorough data analysis, reduces development time and ensures a higher level of accuracy.\n",
    "\n",
    "Polymorphism. \n",
    "\n",
    "Objects are designed to share behaviors and they can take on more than one form. The program will determine which meaning or usage is necessary for each execution of that object from a parent class, reducing the need to duplicate code. A child class is then created, which extends the functionality of the parent class. Polymorphism allows different types of objects to pass through the same interface."
   ]
  },
  {
   "cell_type": "markdown",
   "id": "712523cd-360e-4520-b0a8-3480f23c77c1",
   "metadata": {},
   "source": [
    "### Q3. Explain why the __init__() function is used. Give a suitable example.\n"
   ]
  },
  {
   "cell_type": "markdown",
   "id": "b03224f0-9bbb-473b-a3d5-318f4a5344ad",
   "metadata": {},
   "source": [
    "To understand the meaning of classes we have to understand the built-in __init__() function.\n",
    "\n",
    "All classes have a function called __init__(), which is always executed when the class is being initiated.\n",
    "\n",
    "We use the __init__() function to assign values to object properties, or other operations that are necessary to do when the object is being created:\n",
    "\n",
    "The __init__() function is called automatically every time the class is being used to create a new object.\n",
    "\n"
   ]
  },
  {
   "cell_type": "code",
   "execution_count": 15,
   "id": "c85832ba-12e5-4fc9-9fee-5cefe5c4f9ba",
   "metadata": {},
   "outputs": [],
   "source": [
    "# Example:\n",
    "# case 1: creating a class without using a constructor function\n",
    "\n",
    "class BIKE:\n",
    "    name = \"\" # Note we assigned a default value to a class attribute,\n",
    "    \n",
    "# creating an object\n",
    "bike = BIKE ()\n",
    "\n",
    "# case 2: creating a class using a constructor function\n",
    "\n",
    "class Bike:\n",
    "\n",
    "    # constructor function    \n",
    "    def __init__(self, name = \"\"): # here we are initializing values using the constructors.\n",
    "        self.name = name\n",
    "\n",
    "bike1 = Bike()\n",
    "\n",
    "\"\"\"\n",
    "Here, __init__() is the constructor function that is called whenever a new object of that class is instantiated.\n",
    "\n",
    "The constructor above initializes the value of the name attribute. \n",
    "We have used the self.name to refer to the name attribute of the bike1 object.\n",
    "\n",
    "If we use a constructor to initialize values inside a class, \n",
    "we need to pass the corresponding value during the object creation of the class.\n",
    "\n",
    "\"\"\"\n",
    "bike1 = Bike(\"Mountain Bike\") # Here, \"Mountain Bike\" is passed to the name parameter of __init__()."
   ]
  },
  {
   "cell_type": "markdown",
   "id": "c7ab7c03-c473-4569-a9fa-b67afb733678",
   "metadata": {},
   "source": [
    "### Q4. Why self is used in OOPs?\n"
   ]
  },
  {
   "cell_type": "markdown",
   "id": "492899c0-b0dd-4f41-8db9-10731d38cae6",
   "metadata": {},
   "source": [
    "The self parameter is a reference to the current instance of the class, which is often used in object-oriented programming. It works as a reference to the object. Python uses the self parameter to refer to instance attributes and methods of the class and is used to access variables that belong to the class. By using the “self” we can also access the attributes and methods of the class in python. It binds the attributes with the given arguments. The reason you need to use self. is because Python does not use the @ syntax to refer to instance attributes. Actually, it does not have to be named self , you can call it whatever you like, but it has to be the first parameter of any function in the class:"
   ]
  },
  {
   "cell_type": "markdown",
   "id": "80951bb7-7b27-43ed-91f1-38efaa835f20",
   "metadata": {},
   "source": [
    "### Q5. What is inheritance? Give an example for each type of inheritance."
   ]
  },
  {
   "cell_type": "markdown",
   "id": "90313296-5e54-4b37-94f4-7c95f173764d",
   "metadata": {},
   "source": [
    "Inheritance is a mechanism in which one class acquires the property of another class. For example, a child inherits the traits of his/her parents. With inheritance, we can reuse the fields and methods of the existing class. Hence, inheritance facilitates Reusability and is an important concept of OOPs. Classes can reuse code from other classes. Relationships and subclasses between objects can be assigned, enabling developers to reuse common logic while still maintaining a unique hierarchy. This property of OOP forces a more thorough data analysis, reduces development time and ensures a higher level of accuracy.\n",
    "\n",
    "\n",
    "\n"
   ]
  },
  {
   "cell_type": "markdown",
   "id": "80345bb7-e6f5-4d8d-b4a0-c2f3be05a6cd",
   "metadata": {},
   "source": [
    "There are different types of inheritance viz., Single inheritance, Multiple inheritance, Multilevel inheritance, hybrid inheritance, and hierarchical inheritance. \n",
    "\n",
    "### Single Inheritance: \n",
    "\n",
    "When a derived class inherits only from one base class, it is known as single inheritance.\n",
    "This type of inheritance enables a subclass or derived class to inherit properties and characteristics of the parent class, this avoids duplication of code and improves code reusability."
   ]
  },
  {
   "cell_type": "code",
   "execution_count": 20,
   "id": "24c0dfa7-9fb7-4297-bab4-69b1021d4bf9",
   "metadata": {},
   "outputs": [
    {
     "name": "stdout",
     "output_type": "stream",
     "text": [
      "Hey there, you are in the parent class\n",
      "Hey there, you are in the sub class\n",
      "Hey there, you are in the parent class\n",
      "10\n",
      "5\n"
     ]
    }
   ],
   "source": [
    "#parent class\n",
    "class Above:\n",
    "    i = 5\n",
    "    def fun1(self):\n",
    "        print (\"Hey there, you are in the parent class\")\n",
    "\n",
    "#subclass\n",
    "class Below(Above):\n",
    "    i=10\n",
    "    def fun2(self):\n",
    "        print ( \"Hey there, you are in the sub class\" )\n",
    "\n",
    "temp1=Below()\n",
    "temp2=Above()\n",
    "temp1.fun1()\n",
    "temp1.fun2()\n",
    "temp2.fun1()\n",
    "print(temp1.i)\n",
    "print(temp2.i)\n",
    "#temp2.fun2()\n",
    "\n",
    "\"\"\"\n",
    "In the above code “Above” is the parent class and “Below” is the child class that inherits the parent class. \n",
    "Implementing inheritance in python is a simple task, we just need to mention the parent class name in the parentheses of the child class. \n",
    "We are creating objects of both parent class and child class, and here comes an interesting point about the inheritance. \n",
    "A child class can access the methods and variables of the parent class, whereas the vice versa is not true.\n",
    "So in the above code temp1 object can access both fun1 and fun2 methods whereas the temp2 object can access only the fun1 method. \n",
    "Similarly, the same rule applies to variables in the code. \n",
    "And accessing a child class method or variable from a parent class object will throw an error. \n",
    "If the last line in the code is uncommented then it raises an error.\n",
    "\"\"\""
   ]
  },
  {
   "cell_type": "markdown",
   "id": "192c5367-a806-4fa1-9b0b-d19adc93fdda",
   "metadata": {},
   "source": [
    "### Multiple Inheritance\n",
    "\n",
    "This inheritance enables a child class to inherit from more than one parent class. This type of inheritance is not supported by java classes, but python does support this kind of inheritance. It has a massive advantage if we have a requirement of gathering multiple characteristics from different classes."
   ]
  },
  {
   "cell_type": "code",
   "execution_count": 23,
   "id": "baa5f45e-f195-4026-a7e0-3ab24c173d4b",
   "metadata": {},
   "outputs": [
    {
     "name": "stdout",
     "output_type": "stream",
     "text": [
      "Hey there, you are in the child class\n",
      "first number is :  10\n",
      "second number is :  5\n"
     ]
    }
   ],
   "source": [
    "#parent class 1\n",
    "class A:\n",
    "    demo1=0\n",
    "    def fun1(self):\n",
    "        print(self.demo1)\n",
    "\n",
    "#parent class 2\n",
    "class B:\n",
    "    demo2=0\n",
    "    def fun2(self):\n",
    "        print(self.demo2)\n",
    "\n",
    "#child class\n",
    "class C(A, B):\n",
    "    def fun3(self):\n",
    "        print (\"Hey there, you are in the child class\")\n",
    "\n",
    "# Main code\n",
    "c = C()\n",
    "c.demo1 = 10\n",
    "c.demo2 = 5\n",
    "c.fun3()\n",
    "print (\"first number is : \",c.demo1)\n",
    "print (\"second number is : \",c.demo2 )\n",
    "\n",
    "\"\"\"\n",
    "In the above code, we’ve created two parent classes “A”, “B”. \n",
    "Following the syntax of the inheritance in python, we’ve created a child class, which inherits both classes “A” and “B”. \n",
    "As discussed earlier that a child class can access the methods and variables of the parent class, \n",
    "The child class “C” can access the methods of its parent class.\n",
    "\"\"\""
   ]
  },
  {
   "cell_type": "markdown",
   "id": "eb728016-6f33-4105-b7ae-f4763620bd7f",
   "metadata": {},
   "source": [
    "### Multilevel Inheritance\n",
    "\n",
    "In multilevel inheritance, the transfer of the properties of characteristics is done to more than one class hierarchically. To get a better visualization we can consider it as an ancestor to grandchildren relation or a root to leaf in a tree with more than one level."
   ]
  },
  {
   "cell_type": "code",
   "execution_count": 27,
   "id": "df09eebb-56db-468d-aca9-fc22e59549c3",
   "metadata": {},
   "outputs": [
    {
     "name": "stdout",
     "output_type": "stream",
     "text": [
      "electric car runs on electricity\n",
      "a car has 4 wheels\n",
      "vehicles are used for transportation\n"
     ]
    }
   ],
   "source": [
    "#parent class 1\n",
    "class vehicle:\n",
    "    def functioning(self):\n",
    "        print ('vehicles are used for transportation')\n",
    "\n",
    "#child class 1\n",
    "class car(vehicle):\n",
    "    def wheels(self):\n",
    "        print (\"a car has 4 wheels\")\n",
    "       \n",
    "#child class 2\n",
    "class electric_car(car):\n",
    "    def speciality(self):\n",
    "        print (\"electric car runs on electricity\")\n",
    "\n",
    "electric=electric_car()\n",
    "electric.speciality()\n",
    "electric.wheels()\n",
    "electric.functioning()\n",
    "\n",
    "\"\"\"\n",
    "Having a dry run over the above code, we’ve created a class “vehicle”, then we’ve created a class car that inherits the class vehicle. \n",
    "Now the “vehicle” is a parent class and the “car” is a child class. \n",
    "Later we’ve created an “electric_car” class, now the car class is a parent class and the electric_car class is a child class, \n",
    "and the relationship between vehicle class and electric_car class is the multilevel inheritance.\n",
    "Here electric_car class can access the methods, variables of both vehicle and car class, whereas car class can access only the methods, \n",
    "variables of vehicle class. And as discussed parent class vehicle cannot access any method of the child class.\n",
    "\"\"\""
   ]
  },
  {
   "cell_type": "markdown",
   "id": "1e970048-da10-4733-ab89-dd9e3db4afab",
   "metadata": {},
   "source": [
    "### Hierarchical Inheritance\n",
    "\n",
    "This inheritance allows a class to host as a parent class for more than one child class or subclass. This provides a benefit of sharing the functioning of methods with multiple child classes, hence avoiding code duplication."
   ]
  },
  {
   "cell_type": "code",
   "execution_count": 30,
   "id": "8bf3eda4-692f-43e9-a8c4-0e1e38c3084c",
   "metadata": {},
   "outputs": [
    {
     "name": "stdout",
     "output_type": "stream",
     "text": [
      "Hey there, you are in the parent class\n",
      "Hey there, you are in the child class 3\n",
      "Hey there, you are in the parent class\n",
      "Hey there, you are in the child class 2\n",
      "Hey there, you are in the parent class\n",
      "Hey there, you are in the child class 1\n"
     ]
    }
   ],
   "source": [
    "#parent class\n",
    "class Parent:\n",
    "    def fun1(self):\n",
    "        print (\"Hey there, you are in the parent class\")\n",
    " \n",
    "#child class 1\n",
    "class child1(Parent):\n",
    "    def fun2(self):\n",
    "        print (\"Hey there, you are in the child class 1\")\n",
    "\n",
    "#child class 2 \n",
    "class child2(Parent):\n",
    "    def fun3(self):\n",
    "        print (\"Hey there, you are in the child class 2\")\n",
    " \n",
    "#child class 3\n",
    "class child3(Parent):\n",
    "    def fun4(self):\n",
    "        print (\"Hey there, you are in the child class 3\")\n",
    " \n",
    "# main program\n",
    "child_obj1 = child3()\n",
    "child_obj2 = child2()\n",
    "child_obj3 = child1()\n",
    "child_obj1.fun1()\n",
    "child_obj1.fun4()\n",
    "child_obj2.fun1()\n",
    "child_obj2.fun3()\n",
    "child_obj3.fun1()\n",
    "child_obj3.fun2()\n",
    "\n",
    "\"\"\"\n",
    "In the above code, we have a single parent class and multiple child classes inheriting the same parent class. \n",
    "Now all the child classes can access the methods and variables of the parent class. \n",
    "We’ve created a “Parent” class and 3 child classes “child1”, “child2”, “child3”, which inherits the same parent class “Parent”.\n",
    "\"\"\""
   ]
  },
  {
   "cell_type": "markdown",
   "id": "aec3566a-cc4a-4a80-8d42-31474cdbd04c",
   "metadata": {},
   "source": [
    "### Hybrid Inheritance\n",
    "\n",
    "An inheritance is said hybrid inheritance if more than one type of inheritance is implemented in the same code. This feature enables the user to utilize the feature of inheritance at its best. This satisfies the requirement of implementing a code that needs multiple inheritances in implementation."
   ]
  },
  {
   "cell_type": "code",
   "execution_count": 10,
   "id": "bb989f54-4bf8-4345-b8a0-4776a7042cc0",
   "metadata": {},
   "outputs": [
    {
     "ename": "SyntaxError",
     "evalue": "invalid syntax (2279426602.py, line 3)",
     "output_type": "error",
     "traceback": [
      "\u001b[0;36m  Cell \u001b[0;32mIn[10], line 3\u001b[0;36m\u001b[0m\n\u001b[0;31m    print (\"Hey there, you are in class A\" ) class B (A):\u001b[0m\n\u001b[0m                                             ^\u001b[0m\n\u001b[0;31mSyntaxError\u001b[0m\u001b[0;31m:\u001b[0m invalid syntax\n"
     ]
    }
   ],
   "source": [
    "class A:\n",
    "    def fun1(self):\n",
    "        print (\"Hey there, you are in class A\" ) class B (A):\n",
    "    def fun2(self): \n",
    "        print (\"Hey there, you are in class B\" ) class C (A):\n",
    "    def fun3(self):\n",
    "        print (\"Hey there, you are in class C\" ) class D (C,A): #line 13\n",
    "    def fun4(self):\n",
    "        print (\"Hey there, you are in the class D\" ) #main program\n",
    "ref = D ()\n",
    "ref.fun4()\n",
    "ref.fun3()\n",
    "ref.fun1()\n",
    "\n",
    "\"\"\"\n",
    "In the above code, we can see that we’ve implemented more than one type of inheritance. \n",
    "Classes A, B, C implements hierarchical inheritance, and classes A, C, D implements multilevel inheritance. \n",
    "Noe those individual inheritances have their individual properties of accessing methods and variables of the parent class. \n",
    "Also, there’s a point to be noted.\n",
    "\n",
    "When we are implementing multilevel inheritance we follow syntax like “child_class(parent_class1, parent_class2)”. \n",
    "But this syntax will throw an error if “parent_class1” is hierarchically above the “parent_class2”. \n",
    "f we want to implement this syntax, then the “parent_class1” must be in a hierarchically lower level than “parent_class2”. \n",
    "For example in the above code, if line 13 has a syntax class D(A, C) then the code wouldn’t work since class C is hierarchically lower than\n",
    "class A.\n",
    "\"\"\""
   ]
  },
  {
   "cell_type": "code",
   "execution_count": null,
   "id": "5263c1b0-109e-4fb1-a60e-6109bac69a37",
   "metadata": {},
   "outputs": [],
   "source": []
  }
 ],
 "metadata": {
  "kernelspec": {
   "display_name": "Python 3 (ipykernel)",
   "language": "python",
   "name": "python3"
  },
  "language_info": {
   "codemirror_mode": {
    "name": "ipython",
    "version": 3
   },
   "file_extension": ".py",
   "mimetype": "text/x-python",
   "name": "python",
   "nbconvert_exporter": "python",
   "pygments_lexer": "ipython3",
   "version": "3.10.8"
  }
 },
 "nbformat": 4,
 "nbformat_minor": 5
}
