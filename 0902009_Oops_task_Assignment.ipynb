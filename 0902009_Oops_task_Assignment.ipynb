{
 "cells": [
  {
   "cell_type": "markdown",
   "id": "f7c02fd2-397a-49c3-af75-32d040f3b9cc",
   "metadata": {},
   "source": [
    "# OOPs Task: Assignment Questions "
   ]
  },
  {
   "cell_type": "markdown",
   "id": "77015878-21e2-4131-9127-69783d536feb",
   "metadata": {},
   "source": [
    "### Q1, Create a vehicle class with an init method having instance variables as name_of_vehicle, max_speed  and average_of_vehicle.  \n"
   ]
  },
  {
   "cell_type": "code",
   "execution_count": 2,
   "id": "c6ed8eb6-cf1e-4981-bcbd-a59a89995c4e",
   "metadata": {},
   "outputs": [],
   "source": [
    "class vehicle:\n",
    "    def __init__(self, name_of_vehicle, max_speed, average_of_vehicle):\n",
    "        self.name_of_vehicle = name_of_vehicle\n",
    "        self.max_speed = max_speed\n",
    "        self.average_of_vehicle = average_of_vehicle\n",
    "        \n",
    "    def vehicle_information (self):\n",
    "        return self.name_of_vehicle, self.max_speed, self.average_of_vehicle"
   ]
  },
  {
   "cell_type": "code",
   "execution_count": 8,
   "id": "00e978d4-e82d-46fd-9dc6-dd9e95208726",
   "metadata": {},
   "outputs": [
    {
     "data": {
      "text/plain": [
       "('Tata', 150, 20)"
      ]
     },
     "execution_count": 8,
     "metadata": {},
     "output_type": "execute_result"
    }
   ],
   "source": [
    "truck = vehicle (\"Tata\", 150, 20 )\n",
    "truck.vehicle_information ()"
   ]
  },
  {
   "cell_type": "code",
   "execution_count": 10,
   "id": "96001fb0-7002-4c5f-8759-3f8e26e03b85",
   "metadata": {},
   "outputs": [
    {
     "data": {
      "text/plain": [
       "150"
      ]
     },
     "execution_count": 10,
     "metadata": {},
     "output_type": "execute_result"
    }
   ],
   "source": [
    "truck.max_speed"
   ]
  },
  {
   "cell_type": "markdown",
   "id": "246d17e8-75f5-4bec-b587-af8b6c61db7f",
   "metadata": {},
   "source": [
    "### Q2.  Create a child class car from the vehicle class created in Que 1, which will inherit the vehicle class.  Create a method named seating_capacity which takes capacity as an argument and returns the name of  the vehicle and its seating capacity. \n"
   ]
  },
  {
   "cell_type": "code",
   "execution_count": 9,
   "id": "f1430974-897f-46e9-8f25-9f0fcbcf73e7",
   "metadata": {},
   "outputs": [
    {
     "data": {
      "text/plain": [
       "('Honda', 5)"
      ]
     },
     "execution_count": 9,
     "metadata": {},
     "output_type": "execute_result"
    }
   ],
   "source": [
    "class vehicle:\n",
    "    def __init__(self, name_of_vehicle, max_speed, average_of_vehicle):\n",
    "        self.name_of_vehicle = name_of_vehicle\n",
    "        self.max_speed = max_speed\n",
    "        self.average_of_vehicle = average_of_vehicle\n",
    "        \n",
    "    def vehicle_information (self):\n",
    "        return self.name_of_vehicle, self.max_speed, self.average_of_vehicle\n",
    "    \n",
    "class cars (vehicle):\n",
    "    def __init__(self, name_of_vehicle, max_speed, average_of_vehicle, capacity):\n",
    "        super().__init__(name_of_vehicle, max_speed, average_of_vehicle)\n",
    "        self.capacity = capacity\n",
    "    \n",
    "    def seating_capacity(self):\n",
    "        return self.name_of_vehicle, self.capacity\n",
    "    \n",
    "car1 = cars (\"Honda\", 200, 10, 5)\n",
    "car1.seating_capacity()"
   ]
  },
  {
   "cell_type": "markdown",
   "id": "734cc32d-43d6-445b-94c0-92a12cfa5b10",
   "metadata": {},
   "source": [
    "### Q3. What is multiple inheritance? Write a python code to demonstrate multiple inheritance. \n"
   ]
  },
  {
   "cell_type": "code",
   "execution_count": 14,
   "id": "833eb1f7-4855-4f2c-9cb4-f6e9fe8b7a61",
   "metadata": {},
   "outputs": [
    {
     "name": "stdout",
     "output_type": "stream",
     "text": [
      "This ia a message from class1\n",
      "This ia a message from class2\n"
     ]
    }
   ],
   "source": [
    "\"\"\"\n",
    "Multiple inheritance : \n",
    "\n",
    "Multiple inheritance is a feature of  object-oriented programming  in which an object or class can inherit properties \n",
    "from more than one parent object or parent class. \n",
    "It is distinct from single inheritance, where an object or class may only inherit from one particular object or class.\n",
    "Say you have two different classes; \n",
    "class1 and class2 and then there is a class3 which inherits properties from both class1 and class2\n",
    "\"\"\"\n",
    "# Illustration to demonstrate Multiple Inheritance\n",
    "\n",
    "# creating a parent class: class1\n",
    "class class1:\n",
    "    def class1_method (self):\n",
    "        print (\"This ia a message from class1\")\n",
    "\n",
    "# creating a second parent class: class2\n",
    "class class2:\n",
    "    def class2_method (self):\n",
    "        print (\"This ia a message from class2\")\n",
    "        \n",
    "# creating a new class: class3 without directly assigning any new method\n",
    "class class3 (class1,class2):\n",
    "    pass\n",
    "\n",
    "\n",
    "object_class3 = class3()\n",
    "object_class3.class1_method()\n",
    "object_class3.class2_method()\n",
    "\n",
    "# note that the class3 has inherited properties from both class1 and class2. This is multiple inheritance"
   ]
  },
  {
   "cell_type": "markdown",
   "id": "54d0c5ed-1efa-425d-afaf-cc5069876d82",
   "metadata": {},
   "source": [
    "### Q4. What are getter and setter in python? Create a class and create a getter and a setter method in this  class. "
   ]
  },
  {
   "cell_type": "code",
   "execution_count": null,
   "id": "04a7ed90-11c3-4f13-afd7-3c3b03748db2",
   "metadata": {},
   "outputs": [],
   "source": [
    "In Python, getters and setters are not the same as those in other object-oriented programming languages. \n",
    "Basically, the main purpose of using getters and setters in object-oriented programs is to ensure data encapsulation. \n",
    "Private variables in python are not actually hidden fields like in other object oriented languages. \n",
    "Getters and Setters in python are often used when:\n",
    "    We use getters & setters to add validation logic around getting and setting a value.\n",
    "    To avoid direct access of a class field i.e. private variables cannot be accessed directly or modified by external user.\n",
    "\n",
    "Getters: These are the methods used in Object-Oriented Programming (OOPS) which helps to access the private attributes from a class. \n",
    "Setters: These are the methods used in OOPS feature which helps to set the value to private attributes in a class.\n",
    "\n"
   ]
  },
  {
   "cell_type": "code",
   "execution_count": 3,
   "id": "7ce4d84f-46e8-430e-9243-a23ca42da888",
   "metadata": {},
   "outputs": [
    {
     "name": "stdout",
     "output_type": "stream",
     "text": [
      "setter method called\n",
      "getter method called\n",
      "40\n"
     ]
    }
   ],
   "source": [
    "class Exams:\n",
    "    def __init__(self):\n",
    "        self._marks = 0\n",
    "       \n",
    "    # using property decorator\n",
    "    # a getter function\n",
    "    @property\n",
    "    def marks(self):\n",
    "        print(\"getter method called\")\n",
    "        return self._marks\n",
    "       \n",
    "    # a setter function\n",
    "    @marks.setter\n",
    "    def marks(self, a):\n",
    "        if(a < 35):\n",
    "            raise ValueError(\"Sorry your marks is below eligibility criteria\")\n",
    "        print(\"setter method called\")\n",
    "        self._marks = a\n",
    "\n",
    "student = Exams()\n",
    "  \n",
    "student.marks = 40\n",
    "  \n",
    "print(student.marks)"
   ]
  },
  {
   "cell_type": "markdown",
   "id": "47ca4879-7d7a-46bf-b022-cbff9a71b97c",
   "metadata": {},
   "source": [
    "### Q5.What is method overriding in python? Write a python code to demonstrate method overriding. "
   ]
  },
  {
   "cell_type": "markdown",
   "id": "3b254725-a804-4fe1-bfa4-51214082c666",
   "metadata": {},
   "source": []
  },
  {
   "cell_type": "markdown",
   "id": "a1de4008-d306-4495-bf63-a263a0260b4b",
   "metadata": {},
   "source": [
    "Method overriding in Python is when you have two methods with the same name that each perform different tasks. This is an important feature of inheritance in Python.\n",
    "\n",
    "In method overriding, the child class can change its functions that are defined by its ancestral classes. In other words, the child class has access to the properties and functions of the parent class method while also extending additional functions of its own to the method. If a method in a superclass coincides with that of a subclass, then the subclass is said to override the superclass.\n",
    "\n",
    "There are two prerequisite conditions for Method overriding:\n",
    "\n",
    "Inheritance should be present in the code, method overriding cannot be performed in the same class, and overriding can only be executed when a child class is derived through inheritance.\n",
    "\n",
    "The child class should have the same name and the same number of parameters as the parent class.\n",
    "\n",
    "Invoking a parent class or child class method depends upon the object being used to invoke. The reference object determines the execution of an overridden method."
   ]
  },
  {
   "cell_type": "code",
   "execution_count": 4,
   "id": "bc97a0f3-38e3-4b8e-a40a-a1c56535564b",
   "metadata": {},
   "outputs": [
    {
     "name": "stdout",
     "output_type": "stream",
     "text": [
      "The method Walk here is overridden in the code\n",
      "Hello, I am the child class\n",
      "Hello, I am the parent class\n"
     ]
    }
   ],
   "source": [
    "class Animal:\n",
    "    def Walk(self):\n",
    "        print('Hello, I am the parent class')\n",
    "\n",
    "class Dog(Animal):\n",
    "    def Walk(self):\n",
    "        print('Hello, I am the child class')\n",
    "        \n",
    "print('The method Walk here is overridden in the code')\n",
    "\n",
    "#Invoking Child class through object r\n",
    "\n",
    "r = Dog()\n",
    "r.Walk()\n",
    "\n",
    "#Invoking Parent class through object r\n",
    "\n",
    "r = Animal()\n",
    "r.Walk()"
   ]
  },
  {
   "cell_type": "code",
   "execution_count": null,
   "id": "ed0c932f-c205-489d-bee8-9b874c5c27bd",
   "metadata": {},
   "outputs": [],
   "source": []
  }
 ],
 "metadata": {
  "kernelspec": {
   "display_name": "Python 3 (ipykernel)",
   "language": "python",
   "name": "python3"
  },
  "language_info": {
   "codemirror_mode": {
    "name": "ipython",
    "version": 3
   },
   "file_extension": ".py",
   "mimetype": "text/x-python",
   "name": "python",
   "nbconvert_exporter": "python",
   "pygments_lexer": "ipython3",
   "version": "3.10.8"
  }
 },
 "nbformat": 4,
 "nbformat_minor": 5
}
