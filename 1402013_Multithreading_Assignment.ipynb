{
 "cells": [
  {
   "cell_type": "markdown",
   "id": "b8b969a1-b893-4013-92f9-1e2ad98edf0f",
   "metadata": {},
   "source": [
    "1. what is multithreading in python? why is it used? Name the module used to handle threads in python"
   ]
  },
  {
   "cell_type": "markdown",
   "id": "0fa5eb85-3d1b-4469-b1b9-094d4c33c431",
   "metadata": {},
   "source": [
    "Multithreading is a way of achieving multitasking in Python programming language. It is a technique of dividing a single process into multiple threads, which can be executed concurrently. In multithreading, the concept of threads is used. A thread is an entity within a process that can be scheduled for execution. It is the smallest unit of processing that can be performed in an OS (Operating System) .\n",
    "\n",
    "Multithreading is used to improve the performance of applications that require multiple tasks to be executed simultaneously. It helps in reducing the time taken by the application to execute multiple tasks by running them concurrently .\n",
    "\n",
    "Python provides a built-in module called threading to handle threads. The threading module provides a very simple and intuitive API for spawning multiple threads in a program ."
   ]
  },
  {
   "cell_type": "markdown",
   "id": "55e8ea23-1d05-48a5-ad53-b1a2394c50dd",
   "metadata": {},
   "source": [
    "2. why threading module used? write the use of the following functions\n",
    "\n",
    "    1. activeCount ()\n",
    "    2. currentThread ()\n",
    "    3. enumerate ()"
   ]
  },
  {
   "cell_type": "markdown",
   "id": "b4d58be4-36ba-4fe4-90d7-115afedebcc7",
   "metadata": {},
   "source": [
    "\n",
    "The threading module in Python is used to create and manage threads. It allows you to have different parts of your program run concurrently and can simplify your design. Here are some of the functions provided by the module:\n",
    "\n",
    "start(): This method is used to start a new thread by calling the run method.\n",
    "join(): This method is used to wait for a thread to complete its execution.\n",
    "is_alive(): This method is used to check if a thread is still executing.\n",
    "\n",
    "The threading module exposes all the methods of the thread module and provides some additional methods -\n",
    "\n",
    "threading.activeCount() - Returns the number of thread objects that are active.\n",
    "threading.currentThread() - Returns the number of thread objects in the caller's thread control.\n",
    "threading.enumerate() - Returns a list of all thread objects that are currently active.\n",
    "\n",
    "The module is useful when you want to perform multiple tasks simultaneously, such as running multiple I/O-bound tasks or running CPU-bound tasks on multiple cores. It can also be used to avoid blocking the main thread while waiting for I/O operations to complete.\n",
    "\n"
   ]
  },
  {
   "cell_type": "markdown",
   "id": "4ecc1352-44e7-4abb-b0e3-89fcea305161",
   "metadata": {},
   "source": [
    "3. Explain the following functions\n",
    "    1. run ()\n",
    "    2. start ()\n",
    "    3. join ()\n",
    "    4. isAlive ()"
   ]
  },
  {
   "cell_type": "markdown",
   "id": "8b1d5baf-4d41-4008-9501-d2f9e32ea380",
   "metadata": {},
   "source": [
    "In Python’s threading module, the following functions are used to manage threads:\n",
    "\n",
    "run(): This method is called when a thread is started. It contains the code that will be executed in the thread.\n",
    "start(): This method starts a thread by calling the run method.\n",
    "join([time]): This method waits for threads to terminate. The optional time argument specifies the maximum time to wait for the thread to terminate.\n",
    "isAlive(): This method checks whether a thread is still executing."
   ]
  },
  {
   "cell_type": "markdown",
   "id": "8d0b4663-b156-4aec-9f5b-90b2e0c5bf26",
   "metadata": {},
   "source": [
    "4.  write a python program to create two threads. Thread one must print the list of squares and thread two must print the list of cubes"
   ]
  },
  {
   "cell_type": "markdown",
   "id": "cbfef65f-1296-4dca-be9c-058bd1c61ba4",
   "metadata": {},
   "source": []
  },
  {
   "cell_type": "code",
   "execution_count": 2,
   "id": "3a5cfb75-0fa7-457d-b101-8888307142c2",
   "metadata": {},
   "outputs": [
    {
     "name": "stdout",
     "output_type": "stream",
     "text": [
      "1 squared is 1\n",
      "2 squared is 4\n",
      "3 squared is 9\n",
      "4 squared is 16\n",
      "5 squared is 25\n",
      "6 squared is 36\n",
      "7 squared is 49\n",
      "8 squared is 64\n",
      "9 squared is 81\n",
      "10 squared is 100\n",
      "1 cubed is 1\n",
      "2 cubed is 8\n",
      "3 cubed is 27\n",
      "4 cubed is 64\n",
      "5 cubed is 125\n",
      "6 cubed is 216\n",
      "7 cubed is 343\n",
      "8 cubed is 512\n",
      "9 cubed is 729\n",
      "10 cubed is 1000\n"
     ]
    }
   ],
   "source": [
    "# Here is a Python program that creates two threads. Thread one prints the list of squares and thread two prints the list of cubes:\n",
    "\n",
    "import threading\n",
    "\n",
    "def print_squares():\n",
    "    for i in range(1, 11):\n",
    "        print(f\"{i} squared is {i ** 2}\")\n",
    "\n",
    "def print_cubes():\n",
    "    for i in range(1, 11):\n",
    "        print(f\"{i} cubed is {i ** 3}\")\n",
    "\n",
    "t1 = threading.Thread(target=print_squares)\n",
    "t2 = threading.Thread(target=print_cubes)\n",
    "\n",
    "t1.start()\n",
    "t2.start()\n",
    "\n",
    "t1.join()\n",
    "t2.join()"
   ]
  },
  {
   "cell_type": "markdown",
   "id": "d236f190-34e2-4efc-b1d0-0ac6e2b9f1c3",
   "metadata": {},
   "source": [
    "5. State advantages and disadvantages of multithreading"
   ]
  },
  {
   "cell_type": "markdown",
   "id": "ece008fc-1fc7-4c77-8b17-fd2bc5fc5e59",
   "metadata": {},
   "source": [
    "Multithreading is a programming technique that allows multiple threads to run concurrently within a single program. \n",
    "\n",
    "Here are some of the advantages of multithreading:\n",
    "\n",
    "Enhanced performance: Multithreading can help increase the overall performance of an application, especially on systems with multiple processors or cores. It allows multiple tasks to run concurrently, utilizing the available CPU resources more efficiently.\n",
    "Simplified and streamlined program coding: Multithreading can simplify the coding process by allowing developers to write code that can perform multiple tasks simultaneously .\n",
    "Improvised GUI responsiveness: Multithreading can help improve the responsiveness of graphical user interfaces (GUIs) by allowing them to remain active while other tasks are being performed in the background.\n",
    "Simultaneous and parallelized occurrence of tasks: Multithreading can allow multiple tasks to be executed simultaneously and in parallel, which can help reduce the overall time required to complete a program.\n",
    "Better use of cache storage by utilization of resources: Multithreading can help improve the utilization of cache storage by allowing multiple threads to access it simultaneously .\n",
    "Decreased cost of maintenance: Multithreaded programs can be easier to maintain than single-threaded programs because they are more modular and easier to debug .\n",
    "Better use of CPU resource: Multithreading can help improve the utilization of CPU resources by allowing multiple threads to execute on different processors or cores simultaneously .\n",
    "\n",
    "However, multithreading also has its disadvantages:\n",
    "\n",
    "Complex debugging and testing processes: Debugging and testing multithreaded programs can be more complex than single-threaded programs because they require more attention to detail and careful consideration of all possible execution paths 1.\n",
    "Overhead switching of context: Switching between threads can introduce overhead, which can reduce the overall performance of a program .\n",
    "Increased potential for deadlock occurrence: Deadlocks can occur when two or more threads are waiting for each other to release resources, which can cause a program to hang or crash .\n",
    "Increased difficulty level in writing a program: Writing multithreaded programs requires a higher level of expertise than writing single-threaded programs because it requires careful consideration of all possible execution paths and synchronization issues 1.\n",
    "Unpredictable results: The behavior of multithreaded programs can be unpredictable because it depends on the order in which threads are executed and how they interact with each other .\n",
    "Overall, multithreading is a powerful technique that can help improve the performance and responsiveness of applications, but it also requires careful consideration and expertise to use effectively."
   ]
  },
  {
   "cell_type": "markdown",
   "id": "9e67ed7e-bfad-4914-94a2-1fabdb5d64d5",
   "metadata": {},
   "source": [
    "6. Explain deadlocks and race conditions."
   ]
  },
  {
   "cell_type": "markdown",
   "id": "a5258169-8c88-475e-9dc0-926afe48a49c",
   "metadata": {},
   "source": [
    "Deadlocks and race conditions are two common problems that can occur in concurrent programming. A race condition occurs when two or more threads access a shared resource at the same time, leading to unexpected behavior of the program. For example, if thread 1 deletes an entry in a linked list while thread 2 is accessing the same entry, it can cause data corruption . On the other hand, deadlocks occur when two or more processes are waiting for each other to release resources that they need to proceed. This results in a situation where none of the processes can make progress, and they are all waiting for each other to do something .\n",
    "\n",
    "To avoid race conditions, it is important to ensure that only one thread can access a shared resource at any given time. This can be achieved through the use of locks or semaphores . Deadlocks can be avoided by ensuring that processes acquire resources in a consistent order and release them in reverse order ."
   ]
  },
  {
   "cell_type": "code",
   "execution_count": null,
   "id": "e19c9100-ef4d-4dcc-8269-19cf85a79239",
   "metadata": {},
   "outputs": [],
   "source": []
  },
  {
   "cell_type": "code",
   "execution_count": null,
   "id": "a98d4456-2150-4fa5-be2d-0b245068fdf1",
   "metadata": {},
   "outputs": [],
   "source": []
  }
 ],
 "metadata": {
  "kernelspec": {
   "display_name": "Python 3 (ipykernel)",
   "language": "python",
   "name": "python3"
  },
  "language_info": {
   "codemirror_mode": {
    "name": "ipython",
    "version": 3
   },
   "file_extension": ".py",
   "mimetype": "text/x-python",
   "name": "python",
   "nbconvert_exporter": "python",
   "pygments_lexer": "ipython3",
   "version": "3.10.8"
  }
 },
 "nbformat": 4,
 "nbformat_minor": 5
}
