{
 "cells": [
  {
   "cell_type": "markdown",
   "id": "b5182449-1742-4651-aca6-c110dc7a0584",
   "metadata": {},
   "source": [
    "# Assignment: Tuple, Sets, Dictionaries"
   ]
  },
  {
   "cell_type": "code",
   "execution_count": 1,
   "id": "a10a84e4-6328-4488-8330-daa31de81a05",
   "metadata": {},
   "outputs": [],
   "source": [
    "# Q1. What are the characteristics of the tuples? Is tuple immutable? "
   ]
  },
  {
   "cell_type": "code",
   "execution_count": null,
   "id": "5d710514-5599-4928-ba24-125c865e0d95",
   "metadata": {},
   "outputs": [],
   "source": [
    "# The Characteristics of tuple are\n",
    "# 1) Tuples are ordered, indexed collection of data\n",
    "# 2) Similar to strings indices, the 1st value of tuple does have an index [0, 2nd [1] and so on. A tuple can be traversed by using a index\n",
    "# 3) Tuples can share duplicate values, also being a sequence datatype it could contain elements of diffrent datatypes\n",
    "# 4) Unlike lists which are mutable; tuples are immutable ie they cannot be changed. They are faster than list because they are static  \n",
    "# 5) Tuples can be handy while storing a collection of items especially when you want them to be unchanged'\n",
    "# 6) example of a tuple : "
   ]
  },
  {
   "cell_type": "code",
   "execution_count": 1,
   "id": "42ad42fe-ccf0-4351-84bf-346aad1f24b7",
   "metadata": {},
   "outputs": [],
   "source": [
    "# Q2. What are the two tuple methods in python? Give an example of each method. \n",
    "# Give a reason why  tuples have only two in-built methods as compared to Lists. "
   ]
  },
  {
   "cell_type": "code",
   "execution_count": 3,
   "id": "57a06430-cc49-461e-b51b-eb948fb48fa5",
   "metadata": {},
   "outputs": [
    {
     "name": "stdout",
     "output_type": "stream",
     "text": [
      "Number of thime 3 occured is :  3\n",
      "The first occurance of 3 is at :  3\n"
     ]
    }
   ],
   "source": [
    "# the two tuple methods in python are count() and index()\n",
    "# 1) Count(), returns the number of times a specified value occurs ina tuple [Syntax: tuple.count(element)]\n",
    "# 2) index(), searches the tuple for a specified value and returns the position of where it was found [syntax: tuple.index (element,start,end)]\n",
    "\n",
    "# example 1 : say we need to find out how many times did three occur in this tuple\n",
    "tuple1 = (0,1,2,3,2,3,1,3,2)\n",
    "result1 = tuple1.count(3)\n",
    "print (\"Number of thime 3 occured is : \", result1)\n",
    "\n",
    "# example 2 : say we need to locate the index number for the first occurance of 3\n",
    "tuple1 = (0,1,2,3,2,3,1,3,2)\n",
    "result2 = tuple1.count(3)\n",
    "print (\"The first occurance of 3 is at : \", result2)"
   ]
  },
  {
   "cell_type": "code",
   "execution_count": null,
   "id": "09f29c01-eade-436a-b6b8-4559f6ba72d9",
   "metadata": {},
   "outputs": [],
   "source": [
    "# Reasons why  tuples have only two in-built methods as compared to Lists: \n",
    "\n",
    "# A list is mutable and has many inbuilt operations that can be used for achieving varied results. eg. append(), extend(), sort(), slice() and so on\n",
    "# On the other hand tuple being immutable,its content cannot be changed once it is created.\n",
    "# Also the length of the tuple is fixed and remains same throughout the lifecycle of the program.\n",
    "# thus unlike lists, tuples are confined to only two inbuilt methods namely count() and index()."
   ]
  },
  {
   "cell_type": "code",
   "execution_count": 1,
   "id": "40e81ff3-0d95-43f0-863a-6d2cbd7d0ba2",
   "metadata": {},
   "outputs": [],
   "source": [
    "# Q3.  Which collection datatypes in python do not allow duplicate items? Write a code using a set to remove  duplicates from the given list. \n",
    "List = [1, 1, 1, 2, 1, 3, 1, 4, 2, 1, 2, 2, 2, 3, 2, 4, 3, 1, 3, 2, 3, 3, 3, 4, 4, 1, 4, 2, 4, 3, 4, 4] "
   ]
  },
  {
   "cell_type": "code",
   "execution_count": 1,
   "id": "802de8bb-983d-4e37-a0bb-a4aa47ff8ba4",
   "metadata": {},
   "outputs": [
    {
     "name": "stdout",
     "output_type": "stream",
     "text": [
      "[1, 2, 3, 4]\n"
     ]
    }
   ],
   "source": [
    "# Sets are a collection of datatypes that do not allow duplicate items\n",
    "List = [1, 1, 1, 2, 1, 3, 1, 4, 2, 1, 2, 2, 2, 3, 2, 4, 3, 1, 3, 2, 3, 3, 3, 4, 4, 1, 4, 2, 4, 3, 4, 4] \n",
    "# to remove duplicates from the given list\n",
    "print (list (set (List)))"
   ]
  },
  {
   "cell_type": "code",
   "execution_count": 4,
   "id": "ca1fc7ac-83a2-4686-80df-e2324c8ef74b",
   "metadata": {},
   "outputs": [],
   "source": [
    "# Q4. Explain the difference between the union() and update() methods for a set. Give an example of  each method. "
   ]
  },
  {
   "cell_type": "code",
   "execution_count": 9,
   "id": "bb3fa6e7-87fd-42c2-8a43-b4afd92b92f8",
   "metadata": {},
   "outputs": [
    {
     "name": "stdout",
     "output_type": "stream",
     "text": [
      "Solution for example 1:  {'google', 'microsoft', 'banana', 'cherry', 'apple'}\n",
      "Solution for example 2:  {'google', 'microsoft', 'banana', 'cherry', 'apple'}\n"
     ]
    }
   ],
   "source": [
    "# The update() method adds all missing elements to the set on which it is called and returns None , \n",
    "# while the union() method creates and returns a new set. \n",
    "\n",
    "# The update() method:\n",
    "# The update() method updates the current set, by adding items from another set (or any other iterable).\n",
    "# If an item is present in both sets, only one appearance of this item will be present in the updated set.\n",
    "\n",
    "# The union() method:\n",
    "# The union() method returns a set that contains all items from the original set, and all items from the specified set(s).\n",
    "# we can specify as many sets you want, separated by commas.It does not have to be a set, it can be any iterable object.\n",
    "# If an item is present in more than one set, the result will contain only one appearance of this item.\n",
    "\n",
    "# example 1: The Update method for a set\n",
    "x = {\"apple\", \"banana\", \"cherry\"}\n",
    "y = {\"google\", \"microsoft\", \"apple\"}\n",
    "\n",
    "x.update(y)\n",
    "\n",
    "print(\"Solution for example 1: \",x) # Note \"x\"  is an existing set\n",
    "\n",
    "# example 2: The Union method for a set\n",
    "x = {\"apple\", \"banana\", \"cherry\"}\n",
    "y = {\"google\", \"microsoft\", \"apple\"}\n",
    "\n",
    "z = x.union(y)\n",
    "\n",
    "print(\"Solution for example 2: \",z) # Note \"z\"  is a new set"
   ]
  },
  {
   "cell_type": "code",
   "execution_count": 10,
   "id": "522e36be-4b36-4ee2-b906-39bdcfdfc463",
   "metadata": {},
   "outputs": [],
   "source": [
    "# Q5. What is a dictionary? Give an example. Also, state whether a dictionary is ordered or unordered. "
   ]
  },
  {
   "cell_type": "code",
   "execution_count": 12,
   "id": "611e35dd-6f13-4faa-99f5-a6e6656e014e",
   "metadata": {},
   "outputs": [
    {
     "name": "stdout",
     "output_type": "stream",
     "text": [
      "example of dictionary:  {'brand': 'Ford', 'model': 'Mustang', 'year': 1964}\n"
     ]
    }
   ],
   "source": [
    "# A dictionary is a collection which is ordered*, changeable and do not allow duplicates.\n",
    "# Dictionaries are used to store data values in key:value pairs.\n",
    "# Dictionaries are written with curly brackets, and have keys and values\n",
    "# Dictionary items are ordered, changeable, and does not allow duplicates.\n",
    "# Dictionary items are presented in key:value pairs, and can be referred to by using the key name.\n",
    "# Dictionaries are changeable, meaning that we can change, add or remove items after the dictionary has been created.\n",
    "# Dictionaries cannot have two items with the same key.\n",
    "\n",
    "# example of dictionary:\n",
    "dict = { \"brand\": \"Ford\", \"model\": \"Mustang\", \"year\": 1964 }\n",
    "print(\"example of dictionary: \",dict)\n",
    "\n",
    "# As of Python version 3.7, dictionaries are ordered. In Python 3.6 and earlier, dictionaries were unordered.\n",
    "# When we say that dictionaries are ordered, it means that the items have a defined order, and that order will not change.\n",
    "# Unordered means that the items does not have a defined order, you cannot refer to an item by using an index."
   ]
  },
  {
   "cell_type": "code",
   "execution_count": 13,
   "id": "69868d76-53fb-4400-b386-accbbb047bac",
   "metadata": {},
   "outputs": [],
   "source": [
    "# Q6. Can we create a nested dictionary? If so, please give an example by creating a simple one-level  nested dictionary. "
   ]
  },
  {
   "cell_type": "code",
   "execution_count": 16,
   "id": "92c91c2a-8b1b-498e-82f7-8b5f9db608f3",
   "metadata": {},
   "outputs": [
    {
     "name": "stdout",
     "output_type": "stream",
     "text": [
      "Example of a nested dictionary:  {'child_1': {'name': 'Mohan', 'age': 21}, 'child_2': {'name': 'Rohan', 'age': 18}, 'child_3': {'name': 'Sohan', 'age': 15}}\n",
      "Name of the second child in the family:  Rohan\n"
     ]
    }
   ],
   "source": [
    "# Yes, we can create a nested dictionary. A dictionary can contain dictionaries, this is called nested dictionaries.\n",
    "\n",
    "# example of a dictionary:\n",
    "family = {\"child_1\" : {\"name\" : \"Mohan\", \"age\" : 21}, \"child_2\" : {\"name\" : \"Rohan\", \"age\" : 18}, \"child_3\" : {\"name\" : \"Sohan\", \"age\" : 15}}\n",
    "print(\"Example of a nested dictionary: \", family)\n",
    "print(\"Name of the second child in the family: \", family [\"child_2\"] [\"name\"] )"
   ]
  },
  {
   "cell_type": "code",
   "execution_count": 1,
   "id": "98c6e2e6-37bb-4041-a8f6-31090baf2410",
   "metadata": {},
   "outputs": [],
   "source": [
    "# Q7. Using setdefault() method, create key named topics in the given dictionary and also add the value of  the key as this list \n",
    "['Python', 'Machine Learning’, 'Deep Learning'] \n",
    " dict1 = {'language' : 'Python', 'course': 'Data Science Masters'} "
   ]
  },
  {
   "cell_type": "code",
   "execution_count": 21,
   "id": "2f079c5c-cee6-42fb-98a6-f35ef84591d3",
   "metadata": {},
   "outputs": [
    {
     "name": "stdout",
     "output_type": "stream",
     "text": [
      "dict_values(['Python', 'Data Science Masters', 'Machine Learning', 'Deep Learning'])\n",
      "Machine Learning\n",
      "Deep Learning\n"
     ]
    },
    {
     "data": {
      "text/plain": [
       "{'language': 'Python',\n",
       " 'course': 'Data Science Masters',\n",
       " 'AI_Branch_1': 'Machine Learning',\n",
       " 'AI_Branch_2': 'Deep Learning'}"
      ]
     },
     "execution_count": 21,
     "metadata": {},
     "output_type": "execute_result"
    }
   ],
   "source": [
    "# The setdefault() method returns the value of the item with the specified key.\n",
    "# Syntax: dictionary.setdefault(keyname, value)\n",
    "\n",
    "# Creating key named topics in the given dictionary:\n",
    "dict1 = {'language' : 'Python', 'course': 'Data Science Masters'} \n",
    "x = dict1.values ()\n",
    "y = dict1.setdefault (\"AI_Branch_1\", \"Machine Learning\")\n",
    "z = dict1.setdefault (\"AI_Branch_2\", \"Deep Learning\")\n",
    "print (x)\n",
    "print (y)\n",
    "print (z) \n",
    "\n",
    "dict1"
   ]
  },
  {
   "cell_type": "code",
   "execution_count": 1,
   "id": "1ec22ef1-82b0-47c2-9e3e-41f64c067086",
   "metadata": {},
   "outputs": [],
   "source": [
    "# Q8. What are the three view objects in dictionaries? \n",
    "# Use the three in-built methods in python to display  these three view objects for the given dictionary. \n",
    "dict1 = {'Sport': 'Cricket' , 'Teams': ['India', 'Australia', 'England', 'South Africa', 'Sri Lanka', 'New Zealand']} "
   ]
  },
  {
   "cell_type": "code",
   "execution_count": 18,
   "id": "85f95967-9bb3-4abf-8b0c-4064c33808cd",
   "metadata": {},
   "outputs": [
    {
     "name": "stdout",
     "output_type": "stream",
     "text": [
      "dict_keys(['Sport', 'Teams'])\n",
      "dict_values(['Cricket', ['India', 'Australia', 'England', 'South Africa', 'Sri Lanka', 'New Zealand']])\n",
      "dict_items([('Sport', 'Cricket'), ('Teams', ['India', 'Australia', 'England', 'South Africa', 'Sri Lanka', 'New Zealand'])])\n"
     ]
    }
   ],
   "source": [
    "# the three view objects in dictionaries are 1) Keys, 2) Values and 3) Items which are essentially the key:value pairs\n",
    "# The keys() method will return a list of all the keys in the dictionary.\n",
    "# The values() method will return a list of all the values in the dictionary.\n",
    "# The items() method will return each item in a dictionary, as tuples in a list.\n",
    "\n",
    "dict1 = {'Sport': 'Cricket' , 'Teams': ['India', 'Australia', 'England', 'South Africa', 'Sri Lanka', 'New Zealand']} \n",
    "x = dict1.keys ()\n",
    "y = dict1.values () \n",
    "z = dict1.items ()\n",
    "\n",
    "print (x)\n",
    "print (y)\n",
    "print (z)"
   ]
  },
  {
   "cell_type": "code",
   "execution_count": 1,
   "id": "549838ca-65d6-4011-9217-44cc727b05b7",
   "metadata": {},
   "outputs": [],
   "source": [
    "#"
   ]
  },
  {
   "cell_type": "code",
   "execution_count": 1,
   "id": "2227c103-9eab-4588-be39-a4c3d9ffbc8b",
   "metadata": {},
   "outputs": [],
   "source": [
    "#"
   ]
  },
  {
   "cell_type": "code",
   "execution_count": 1,
   "id": "a16ff815-507f-46f1-9a8f-a6736866a2c2",
   "metadata": {},
   "outputs": [],
   "source": [
    "#"
   ]
  },
  {
   "cell_type": "code",
   "execution_count": null,
   "id": "aab47462-b240-4cc8-9d50-da95bb0f31f0",
   "metadata": {},
   "outputs": [],
   "source": []
  }
 ],
 "metadata": {
  "kernelspec": {
   "display_name": "Python 3 (ipykernel)",
   "language": "python",
   "name": "python3"
  },
  "language_info": {
   "codemirror_mode": {
    "name": "ipython",
    "version": 3
   },
   "file_extension": ".py",
   "mimetype": "text/x-python",
   "name": "python",
   "nbconvert_exporter": "python",
   "pygments_lexer": "ipython3",
   "version": "3.10.8"
  }
 },
 "nbformat": 4,
 "nbformat_minor": 5
}
