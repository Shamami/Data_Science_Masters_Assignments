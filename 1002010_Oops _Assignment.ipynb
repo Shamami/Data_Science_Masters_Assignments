{
 "cells": [
  {
   "cell_type": "markdown",
   "id": "7ae6f1ef-0924-4a5c-be89-22ddbd71d0c1",
   "metadata": {},
   "source": [
    "# Q1. Which function is used to open a file? What are the different modes of opening a file? Explain each mode of file opening.\n"
   ]
  },
  {
   "cell_type": "markdown",
   "id": "4da82ea9-107d-463d-8733-9a9b5a568c73",
   "metadata": {},
   "source": [
    "To work with files in Python, you have to open the file first. So, the open() function does what the name implies – it opens a file for us so we can work with the file.\n",
    "\n",
    "To use the open function, we declare a variable for it first. The open() function takes up to 3 parameters – the filename, the mode, and the encoding. We can then specify what we want to do with the file in a print function.\n",
    "\n",
    "example: \n",
    "file1 = open(\"test.txt\", \"r\")\n",
    "\n",
    "Here, we have explicitly specified the mode by passing the \"r\" argument which means file is opened for reading.\n",
    "\n",
    "There are different Modes to Open a File in Python\n",
    "\n",
    "Mode\tDescription\n",
    "\n",
    "r\tOpen a file for reading. (default)\n",
    "\n",
    "w\tOpen a file for writing. Creates a new file if it does not exist or truncates the file if it exists.\n",
    "\n",
    "x\tOpen a file for exclusive creation. If the file already exists, the operation fails.\n",
    "\n",
    "a\tOpen a file for appending at the end of the file without truncating it. Creates a new file if it does not exist.\n",
    "\n",
    "t\tOpen in text mode. (default)\n",
    "\n",
    "b\tOpen in binary mode.\n",
    "\n",
    "+\tOpen a file for updating (reading and writing)\n"
   ]
  },
  {
   "cell_type": "markdown",
   "id": "9c74c988-cff8-4614-8685-8360e6d9bf99",
   "metadata": {},
   "source": [
    "# After we open a file, we use the read() method to read its contents. E\n",
    "\n",
    "#Examples for different mode\n",
    "\n",
    "# open a file in a read mode \n",
    "file1 = open(\"test.txt\", \"r\") #  by default it will read it in text mode \n",
    "# or\n",
    "file1 = open(\"test.txt\", \"rt\")\n",
    "\n",
    "# open a file in a read mode but in binary form\n",
    "file1 = open(\"test.txt\", \"rb\")\n",
    "\n",
    "# open a file to write \n",
    "file1 = open(\"test.txt\", \"w\")\n",
    "\n",
    "# open a new file\n",
    "file1 = open(\"test1.txt\", \"x\")\n",
    "\n",
    "# open a file to update or append\n",
    "file1 = open(\"test.txt\", \"a\")\n",
    "\n",
    "\n",
    "# read the file\n",
    "read_content = file1.read()\n",
    "print(read_content)\n",
    "# Here, file1.read() reads the test.txt file and is stored in the read_content variable.\n"
   ]
  },
  {
   "cell_type": "code",
   "execution_count": 15,
   "id": "b7f3f627-3de8-48bc-b128-995bc1c9f351",
   "metadata": {},
   "outputs": [],
   "source": []
  },
  {
   "cell_type": "markdown",
   "id": "6b96a235-89ec-4304-b3c3-324f6b70b318",
   "metadata": {},
   "source": [
    "# Q2. Why close() function is used? Why is it important to close a file?"
   ]
  },
  {
   "cell_type": "markdown",
   "id": "cb5b378d-4c35-4995-a6d4-e1c7803011cc",
   "metadata": {},
   "source": [
    "When we are done with performing operations on the file, we need to properly close the file. this is where we use the close () function\n",
    "\n",
    "Closing a file will free up the resources that were tied with the file. It is done using the close() method in Python. For example,\n",
    "\n",
    "After we perform file operation, we should always close the file; it's a good programming practice.\n"
   ]
  },
  {
   "cell_type": "code",
   "execution_count": 11,
   "id": "4c28a3f1-9c79-4c98-b1ec-7703731a7eec",
   "metadata": {},
   "outputs": [
    {
     "name": "stdout",
     "output_type": "stream",
     "text": [
      "I want to become a data scientist\n"
     ]
    }
   ],
   "source": [
    "# illustration\n",
    "# open a file\n",
    "file1 = open(\"test.txt\", \"r\")\n",
    "\n",
    "# read the file\n",
    "read_content = file1.read()\n",
    "print(read_content)\n",
    "\n",
    "# close the file\n",
    "file1.close()\n",
    "\n",
    "# Here, we have used the close() method to close the file."
   ]
  },
  {
   "cell_type": "code",
   "execution_count": null,
   "id": "bf225811-4d37-4e6f-acaa-57e5ecafa8ca",
   "metadata": {},
   "outputs": [],
   "source": []
  },
  {
   "cell_type": "markdown",
   "id": "d2ec66f7-1852-4b54-aaa6-803a8d7a41c9",
   "metadata": {},
   "source": [
    "# Q3. Write a python program to create a text file. Write ‘I want to become a Data Scientist’ in that file. Then close the file. Open this file and read the content of the file.  "
   ]
  },
  {
   "cell_type": "code",
   "execution_count": 10,
   "id": "803ef1d1-a4d5-4059-b8b9-2a1181f411ed",
   "metadata": {},
   "outputs": [],
   "source": [
    "# opening a file\n",
    "file2 = open(\"test.txt\", \"w\")\n",
    "\n",
    "# writing in a file\n",
    "file2.write (\"I want to become a data scientist\")\n",
    "\n",
    "# closing the file\n",
    "file2.close()\n",
    "\n",
    "# file is created. message is printed"
   ]
  },
  {
   "cell_type": "markdown",
   "id": "b9856ae6-7e77-4fff-b1b2-1370af551ff5",
   "metadata": {},
   "source": [
    "# Q4. Explain the following with python code: read(), readline() and readlines().\n",
    "\n"
   ]
  },
  {
   "cell_type": "markdown",
   "id": "aebc935f-4804-4ef3-8c8b-3f3c530aa66a",
   "metadata": {},
   "source": [
    "Python code:\n",
    "\n",
    "read() method:\n",
    "will read the whole file at once and then print out the first characters that take up as many bytes as you specify in the parenthesis \n",
    "\n",
    "readline() method:\n",
    "will return a line from the file when called. the readline() method will read and print out only the first characters that take up as many bytes as you specify in the parenthesis.\n",
    "\n",
    "readlines() method:\n",
    "will return all the lines in a file in the format of a list where each element is a line in the file.\n"
   ]
  },
  {
   "cell_type": "code",
   "execution_count": null,
   "id": "debddf51-4545-4689-ae4c-28ad3c68f9cc",
   "metadata": {},
   "outputs": [],
   "source": [
    "# Examples\n",
    "read() method:\n",
    "file = open(\"test.txt\", \"r\")\n",
    "file.read()\n",
    "\n",
    "readline() method:\n",
    "file = open(\"test.txt\", \"r\")\n",
    "file.readline()\n",
    "    \n",
    "readlines() method:\n",
    "file = open(\"test.txt\",\"r\")\n",
    "file.readlines()"
   ]
  },
  {
   "cell_type": "markdown",
   "id": "bc637fd1-c139-4735-97ad-eb2fbf64b201",
   "metadata": {},
   "source": [
    "# Q5. Explain why with statement is used with open(). What is the advantage of using with statement and open() together?\n"
   ]
  },
  {
   "cell_type": "markdown",
   "id": "bb63bc21-712b-4641-97f2-831103b2ac3f",
   "metadata": {},
   "source": [
    "The with statement works with the open() function to open a file. So, you can write the code like this:\n",
    "\n",
    "Unlike open() where you have to close the file with the close() method, the with statement closes the file for you without you telling it to. This is because the with statement calls 2 built-in methods behind the scene – __enter()__ and __exit()__.\n",
    "\n",
    "The __exit()__ method closes the file when the operation you specify is done.\n"
   ]
  },
  {
   "cell_type": "code",
   "execution_count": 9,
   "id": "7bb2a341-1705-4665-8b7d-a38adbf84203",
   "metadata": {},
   "outputs": [
    {
     "name": "stdout",
     "output_type": "stream",
     "text": [
      "I want to become a data scientist\n"
     ]
    }
   ],
   "source": [
    "# Example\n",
    "with open(\"test.txt\") as my_file:\n",
    "    print(my_file.read())"
   ]
  },
  {
   "cell_type": "markdown",
   "id": "778a393f-0f9e-42e1-b9d6-7cb9539c788e",
   "metadata": {},
   "source": [
    "# Q6. Explain the write() and writelines() functions. Give a suitable example."
   ]
  },
  {
   "cell_type": "markdown",
   "id": "35eff455-b786-48cc-9af6-11f82a22999d",
   "metadata": {},
   "source": [
    "The only difference between the write() and writelines() is that write() is used to write a string to an already opened file while the writelines() method writes the items of a list to the file. Where the texts will be inserted depends on the file mode and stream position. \n",
    "\"a\" : The texts will be inserted at the current file stream position, default at the end of the file. \n",
    "\"w\": The file will be emptied before the texts will be inserted at the current file stream position, default 0.\n",
    "\n",
    "syntax\n",
    "file.writelines(list)\n",
    "\n"
   ]
  },
  {
   "cell_type": "code",
   "execution_count": 7,
   "id": "f4ccd053-85d7-4e0a-89e4-0554b1ffe93f",
   "metadata": {},
   "outputs": [
    {
     "name": "stdout",
     "output_type": "stream",
     "text": [
      "\n",
      "See you soon!\n",
      "Over and out.\n"
     ]
    }
   ],
   "source": [
    "# example\n",
    "f = open(\"demofile3.txt\", \"a\")\n",
    "f.writelines([\"\\nSee you soon!\", \"\\nOver and out.\"])\n",
    "f.close()\n",
    "\n",
    "#open and read the file after the appending:\n",
    "f = open(\"demofile3.txt\", \"r\")\n",
    "print(f.read())"
   ]
  },
  {
   "cell_type": "code",
   "execution_count": null,
   "id": "a5b6bc8e-773b-4c36-926f-86bea7f9a017",
   "metadata": {},
   "outputs": [],
   "source": []
  }
 ],
 "metadata": {
  "kernelspec": {
   "display_name": "Python 3 (ipykernel)",
   "language": "python",
   "name": "python3"
  },
  "language_info": {
   "codemirror_mode": {
    "name": "ipython",
    "version": 3
   },
   "file_extension": ".py",
   "mimetype": "text/x-python",
   "name": "python",
   "nbconvert_exporter": "python",
   "pygments_lexer": "ipython3",
   "version": "3.10.8"
  }
 },
 "nbformat": 4,
 "nbformat_minor": 5
}
